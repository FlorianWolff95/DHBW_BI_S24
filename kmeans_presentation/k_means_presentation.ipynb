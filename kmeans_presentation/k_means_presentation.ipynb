{
 "cells": [
  {
   "cell_type": "markdown",
   "metadata": {
    "slideshow": {
     "slide_type": "slide"
    }
   },
   "source": [
    "# K-means Clustering\n",
    "## K-means = Unsupervised Learning zum Clustern von Datenpunkten\n",
    "\n",
    "\n",
    "1. Spezifikation der Anzahl an Clustern k\n",
    "\n",
    "1. Initialisierung der Zentroiden der Cluster\n",
    "\n",
    "1. Bestimmung des nächsten Zentroiden für jeden Datenpunkt (Labeling)\n",
    "\n",
    "1. Verschiebung der Centroiden in die Mitte der ihnen zugehörenden Datenpunktmenge\n",
    "\n",
    "1. Wiederholung des Labelns und Verschiebens, bis keine Verschiebung mehr erfolgt"
   ]
  },
  {
   "cell_type": "code",
   "execution_count": null,
   "metadata": {
    "slideshow": {
     "slide_type": "subslide"
    }
   },
   "outputs": [],
   "source": [
    "import pandas as pd\n",
    "import numpy as np\n",
    "import matplotlib.pyplot as plt\n",
    "import seaborn as sns\n",
    "\n",
    "from sklearn.datasets import make_blobs\n",
    "from IPython.display import clear_output\n",
    "\n",
    "import warnings\n",
    "\n",
    "warnings.filterwarnings(\"ignore\")\n",
    "\n",
    "K = 4\n",
    "CLUSTER_STD = 2.5"
   ]
  },
  {
   "cell_type": "code",
   "execution_count": null,
   "metadata": {
    "slideshow": {
     "slide_type": "subslide"
    }
   },
   "outputs": [],
   "source": [
    "data = pd.DataFrame(\n",
    "    make_blobs(\n",
    "        n_samples=20000,\n",
    "        n_features=2,\n",
    "        centers=K,\n",
    "        cluster_std=CLUSTER_STD,\n",
    "        random_state=42,\n",
    "    )[0],\n",
    "    columns=[\"feature_1\", \"feature_2\"],\n",
    ")\n",
    "labels_init = make_blobs(\n",
    "    n_samples=20000, n_features=2, centers=K, cluster_std=CLUSTER_STD, random_state=42\n",
    ")[1]\n",
    "plt.figure(figsize=(10, 7))\n",
    "plt.title(\"Sample data\")\n",
    "sns.set_theme(style=\"whitegrid\")\n",
    "sns.scatterplot(\n",
    "    data=data,\n",
    "    x=\"feature_1\",\n",
    "    y=\"feature_2\",\n",
    "    s=10,\n",
    "    alpha=0.5,\n",
    "    hue=labels_init,\n",
    "    palette=\"viridis\",\n",
    ")\n",
    "plt.show()"
   ]
  },
  {
   "cell_type": "markdown",
   "metadata": {
    "slideshow": {
     "slide_type": "slide"
    }
   },
   "source": [
    "## Wie baue ich einen KMeans Algorithmus?\n",
    "\n",
    "1. Daten skalieren\n",
    "\n",
    "1. Zentroiden zufällig initialisieren\n",
    "\n",
    "1. Datenpunkte labeln\n",
    "\n",
    "1. Zentroiden updaten\n",
    "\n",
    "1. 3.+4. wiederholden"
   ]
  },
  {
   "cell_type": "markdown",
   "metadata": {
    "slideshow": {
     "slide_type": "slide"
    }
   },
   "source": [
    "## 1. Daten skalieren"
   ]
  },
  {
   "cell_type": "code",
   "execution_count": null,
   "metadata": {
    "slideshow": {
     "slide_type": "subslide"
    }
   },
   "outputs": [],
   "source": [
    "data = ((data - data.min()) / (data.max() - data.min())) * 9 + 1\n",
    "data.head()"
   ]
  },
  {
   "cell_type": "markdown",
   "metadata": {
    "slideshow": {
     "slide_type": "slide"
    }
   },
   "source": [
    "## 2. Zentroiden zufällig initialisieren"
   ]
  },
  {
   "cell_type": "code",
   "execution_count": null,
   "metadata": {
    "slideshow": {
     "slide_type": "subslide"
    }
   },
   "outputs": [],
   "source": [
    "def random_centroids(data, k):\n",
    "    centroids = []\n",
    "    for i in range(k):\n",
    "        centroid = data.apply(lambda x: float(x.sample()))\n",
    "        centroids.append(centroid)\n",
    "    return pd.concat(centroids, axis=1)\n",
    "\n",
    "\n",
    "centroids = random_centroids(data, k=K)\n",
    "centroids"
   ]
  },
  {
   "cell_type": "markdown",
   "metadata": {
    "slideshow": {
     "slide_type": "slide"
    }
   },
   "source": [
    "## 3. Datenpunkte labeln\n",
    "\n",
    "Dies geschieht über die Berechnung des euklidschen Abstandes jedes Datenpunktes zu jedem Zentroiden. Jeder Datenpunkt erhält das Labes des Zentroiden, der sich am nächsten bei ihm befindet zugewiesen.\n",
    "\n",
    "$\n",
    "    {\\displaystyle d(p,q)=\\|q-p\\|_{2}={\\sqrt {(q_{1}-p_{1})^{2}+\\cdots +(q_{n}-p_{n})^{2}}}={\\sqrt {\\sum _{i=1}^{n}(q_{i}-p_{i})^{2}}}}\n",
    "$\n",
    "\n",
    "```python\n",
    "np.sqrt(((data - centroids.iloc[:, 0]) ** 2).sum(axis=1))\n",
    "```"
   ]
  },
  {
   "cell_type": "code",
   "execution_count": null,
   "metadata": {
    "slideshow": {
     "slide_type": "subslide"
    }
   },
   "outputs": [],
   "source": [
    "def get_labels(data, centroids):\n",
    "    # calculate datapoint distances to centroids (columns)\n",
    "    distances = centroids.apply(lambda x: np.sqrt(((data - x) ** 2).sum(axis=1)))\n",
    "\n",
    "    # find column min distance for each row\n",
    "    return distances.idxmin(axis=1)"
   ]
  },
  {
   "cell_type": "code",
   "execution_count": null,
   "metadata": {
    "slideshow": {
     "slide_type": "subslide"
    }
   },
   "outputs": [],
   "source": [
    "labels = get_labels(data, centroids)\n",
    "labels.value_counts()"
   ]
  },
  {
   "cell_type": "code",
   "execution_count": null,
   "metadata": {},
   "outputs": [],
   "source": [
    "# visualize initial centroids and labels and data as subplots\n",
    "\n",
    "fig, ax = plt.subplots(1, 2, figsize=(15, 7))\n",
    "ax[0].set_title(\"labeled data with initial centroids\")\n",
    "sns.scatterplot(\n",
    "    data=data,\n",
    "    x=\"feature_1\",\n",
    "    y=\"feature_2\",\n",
    "    s=10,\n",
    "    alpha=0.5,\n",
    "    hue=labels,\n",
    "    palette=\"viridis\",\n",
    "    ax=ax[0],\n",
    ")\n",
    "sns.scatterplot(\n",
    "    data=centroids.T,\n",
    "    x=\"feature_1\",\n",
    "    y=\"feature_2\",\n",
    "    s=50,\n",
    "    alpha=0.8,\n",
    "    color=\"black\",\n",
    "    ax=ax[0],\n",
    ")\n",
    "ax[1].set_title(\"Real labels\")\n",
    "sns.set_theme(style=\"whitegrid\")\n",
    "sns.scatterplot(\n",
    "    data=data,\n",
    "    x=\"feature_1\",\n",
    "    y=\"feature_2\",\n",
    "    s=10,\n",
    "    alpha=0.5,\n",
    "    hue=labels_init,\n",
    "    palette=\"viridis\",\n",
    "    ax=ax[1],\n",
    ")\n",
    "plt.show()"
   ]
  },
  {
   "cell_type": "markdown",
   "metadata": {
    "slideshow": {
     "slide_type": "slide"
    }
   },
   "source": [
    "## 4. Zentroiden updaten"
   ]
  },
  {
   "cell_type": "markdown",
   "metadata": {
    "slideshow": {
     "slide_type": "subslide"
    }
   },
   "source": [
    "### Berechnung des mittleren geometrischen Abstandes einer jeden Spalte in jeder erstellten Datenpunktmenge\n",
    "\n",
    "\n",
    "$\n",
    "    {\\displaystyle \\left(\\prod _{i=1}^{n}a_{i}\\right)^{\\frac {1}{n}}={\\sqrt[{n}]{a_{1}a_{2}\\cdots a_{n}}}}\n",
    "$\n",
    "\n",
    "\n",
    "oder das logarithmisch skalierte geometrische Mittel\n",
    "\n",
    "\n",
    "$\n",
    " {\\displaystyle \\exp {\\left({{\\frac {1}{n}}\\sum \\limits _{i=1}^{n}\\ln a_{i}}\\right)}}\n",
    "$\n",
    "\n",
    "\n",
    "python implementation:\n",
    "```python\n",
    "np.exp(np.log(x).mean())\n",
    "```"
   ]
  },
  {
   "cell_type": "code",
   "execution_count": null,
   "metadata": {
    "slideshow": {
     "slide_type": "subslide"
    }
   },
   "outputs": [],
   "source": [
    "def new_centroids(data, labels):\n",
    "    return data.groupby(labels).apply(lambda x: np.exp(np.log(x).mean())).T"
   ]
  },
  {
   "cell_type": "code",
   "execution_count": null,
   "metadata": {},
   "outputs": [],
   "source": [
    "def plot_clusters_sample(data, centroids, labels, new_centroids):\n",
    "    plt.figure(figsize=(10, 7))\n",
    "    plt.title(\"Sample data\")\n",
    "    sns.set_theme(style=\"whitegrid\")\n",
    "    sns.scatterplot(\n",
    "        data=data,\n",
    "        x=\"feature_1\",\n",
    "        y=\"feature_2\",\n",
    "        s=10,\n",
    "        alpha=0.5,\n",
    "        hue=labels,\n",
    "        palette=\"viridis\",\n",
    "    )\n",
    "\n",
    "    # Increase the size of centroids\n",
    "    sns.scatterplot(\n",
    "        data=centroids.T, x=\"feature_1\", y=\"feature_2\", s=200, alpha=0.5, color=\"black\"\n",
    "    )\n",
    "\n",
    "    # Draw arrow from old centroid to new centroid\n",
    "    for i in range(centroids.columns.size):\n",
    "        plt.arrow(\n",
    "            centroids.iloc[0, i],\n",
    "            centroids.iloc[1, i],\n",
    "            new_centroids.iloc[0, i] - centroids.iloc[0, i],\n",
    "            new_centroids.iloc[1, i] - centroids.iloc[1, i],\n",
    "            head_width=0.2,\n",
    "            head_length=0.2,\n",
    "            fc=\"black\",\n",
    "            ec=\"black\",\n",
    "        )\n",
    "    plt.show()\n",
    "\n",
    "\n",
    "plot_clusters_sample(data, centroids, labels, new_centroids(data, labels))"
   ]
  },
  {
   "cell_type": "markdown",
   "metadata": {
    "slideshow": {
     "slide_type": "slide"
    }
   },
   "source": [
    "## 5. Wiederholung des Labelns und Verschiebens\n"
   ]
  },
  {
   "cell_type": "markdown",
   "metadata": {
    "slideshow": {
     "slide_type": "slide"
    }
   },
   "source": [
    "### Visualisierung der Iterationen"
   ]
  },
  {
   "cell_type": "code",
   "execution_count": null,
   "metadata": {
    "slideshow": {
     "slide_type": "subslide"
    }
   },
   "outputs": [],
   "source": [
    "def plot_clusters(data, labels, centroids, iteration, clear=True):\n",
    "    if clear:\n",
    "        clear_output(wait=True)\n",
    "\n",
    "    plt.figure(figsize=(10, 7))\n",
    "\n",
    "    plt.title(f\"Iteration: {iteration}\")\n",
    "\n",
    "    sns.set_theme(style=\"whitegrid\")\n",
    "    sns.scatterplot(\n",
    "        data=data,\n",
    "\n",
    "        x=\"feature_1\",\n",
    "\n",
    "        y=\"feature_2\",\n",
    "\n",
    "        s=10,\n",
    "\n",
    "        alpha=0.5,\n",
    "\n",
    "        hue=labels,\n",
    "\n",
    "        palette=\"viridis\",\n",
    "    )\n",
    "    sns.scatterplot(\n",
    "\n",
    "        data=centroids.T, x=\"feature_1\", y=\"feature_2\", s=100, alpha=0.5, color=\"black\"\n",
    "    )\n",
    "\n",
    "    plt.show()"
   ]
  },
  {
   "cell_type": "markdown",
   "metadata": {
    "slideshow": {
     "slide_type": "slide"
    }
   },
   "source": [
    "### Finaler KMeans Algorithmus mit Visualisierung"
   ]
  },
  {
   "cell_type": "code",
   "execution_count": null,
   "metadata": {
    "slideshow": {
     "slide_type": "subslide"
    }
   },
   "outputs": [],
   "source": [
    "max_iterations = 100\n",
    "\n",
    "centroids = random_centroids(data, K)\n",
    "old_centroids = pd.DataFrame()\n",
    "iteration = 1\n",
    "\n",
    "while iteration < max_iterations and not centroids.equals(old_centroids):\n",
    "    old_centroids = centroids\n",
    "\n",
    "    labels = get_labels(data, centroids)\n",
    "    centroids = new_centroids(data, labels)\n",
    "    plot_clusters(data, labels, centroids, iteration, clear=True)\n",
    "    iteration += 1"
   ]
  }
 ],
 "metadata": {
  "celltoolbar": "Slideshow",
  "kernelspec": {
   "display_name": "Python 3 (ipykernel)",
   "language": "python",
   "name": "python3"
  },
  "language_info": {
   "codemirror_mode": {
    "name": "ipython",
    "version": 3
   },
   "file_extension": ".py",
   "mimetype": "text/x-python",
   "name": "python",
   "nbconvert_exporter": "python",
   "pygments_lexer": "ipython3",
   "version": "3.11.5"
  }
 },
 "nbformat": 4,
 "nbformat_minor": 2
}
