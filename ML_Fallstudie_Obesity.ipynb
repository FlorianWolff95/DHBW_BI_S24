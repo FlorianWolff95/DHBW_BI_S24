{
  "cells": [
    {
      "cell_type": "markdown",
      "metadata": {
        "colab_type": "text",
        "id": "view-in-github"
      },
      "source": [
        "<a target=\"_blank\" href=\"https://colab.research.google.com/github/FlorianWolff95/DHBW_BI_S24/blob/main/ML_Fallstudie_Obesity.ipynb\">\n",
        "  <img src=\"https://colab.research.google.com/assets/colab-badge.svg\" alt=\"Open In Colab\"/>\n",
        "</a>"
      ]
    },
    {
      "cell_type": "markdown",
      "metadata": {
        "id": "lMu3pCvOTOaC"
      },
      "source": [
        "# ML Fallstudie Obesity\n",
        "Sie finden in unserem [Repo](https://github.com/AlexKressner/Business_Intelligence) unter `Daten/Obesity/` Daten zur Schätzung der Adipositaslevel von Personen aus den Ländern Mexiko, Peru und Kolumbien, im Alter zwischen 14 und 61 Jahren, mit unterschiedlichen Essgewohnheiten und körperlicher Verfassung. Die Daten wurden mit Hilfe einer Webplattform gesammelt, auf der anonyme Nutzer jede Frage eines Fragebogens beantworteten. Anschließend wurden die Informationen verarbeitet, wobei 17 Attribute und 2111 Datensätze erhalten wurden.\n",
        "\n",
        "Die mit den Essgewohnheiten verbundenen Attribute sind: Häufiger Konsum von hochkalorischen Lebensmitteln (FAVC), Häufigkeit des täglichen Gemüsekonsums (FCVC), Anzahl der Hauptmahlzeiten pro Tag (NCP), Konsum von Nahrungsmitteln zwischen den Mahlzeiten (CAEC), täglicher Wasserkonsum (CH20) und Alkoholkonsum (CALC).\n",
        "\n",
        "Die mit der körperlichen Verfassung verbundenen Attribute sind: Überwachung des Kalorienverbrauchs (SCC), Häufigkeit körperlicher Aktivitäten (FAF), Zeit, die mit Technologiegeräten verbracht wird (TUE), genutztes Verkehrsmittel (MTRANS) und die erhaltenen Variablen: Geschlecht, Alter, Größe und Gewicht.\n",
        "\n",
        "Die verschiedenen Adipositatswerte (in der Spalte `ObesityLevel`) sind:\n",
        "\n",
        "- Untergewicht\n",
        "- Normalgewicht\n",
        "- Übergewicht_I\n",
        "- Übergewicht_II\n",
        "- Adipositas_I\n",
        "- Adipositas_II\n",
        "- Adipositas_III\n",
        "\n",
        "Die Daten stammen von [Kaggle](https://www.kaggle.com/datasets/aravindpcoder/obesity-or-cvd-risk-classifyregressorcluster). Ihre Aufgabe besteht darin, ein geeignetes Modell zur Vorhersage des Adipositatlevels basierend auf den gegebenen Features zu erstellen. Beantworten Sie dafür die folgenden Fragestellungen bzw. gehen Sie wie folgt vor:\n",
        "\n",
        "1. **Vorüberlegung**: Wenn Sie das Adipositaslevel einer Person vorhersagen, handelt es sich um eine Regression oder Klassifikation?\n",
        "\n",
        "2. **Datenexploration**:\n",
        "- Wie viele Features gibt es?\n",
        "- Gibt es fehlende Werte bei den Features?\n",
        "- Wie sind die numerischen Features verteilt, d.h. berechnen Sie Kenngrößen wie den Mittelwert, Median, Quartile, etc.? Hinweis: Dafür gibt es eine Funktion!\n",
        "- Wie ist die Korrelation zwischen dem Target und den Features? Hinweis: Dafür gibt es eine Funktion!\n",
        "\n",
        "3. **Feature Engineering**:\n",
        "- Achte Sie auf die Datentypen beim Erstellen von Features!\n",
        "- Gibt es aus Ihrer Sicht weitere interessante Features, die Sie aus den Daten ableiten können?\n",
        "\n",
        "4. **Modell trainieren und bewerten**:\n",
        "- Entwickeln Sie ein Modell, mit dem Sie das Adipositaslevel einer Person basierend auf den zur Verfügung stehenden Features schätzen können.\n",
        "- Optimieren Sie die Hyperparamter Ihres Modells.\n",
        "- Können Sie Prognosegüte erhöhen, wenn Sie zwei Modelle trainieren? Ein Modell schätzt das Adipositaslevels für Männer, das andere für Frauen.\n",
        "\n",
        "5. **Prognose**: Schätzen Sie das Adipositaslevel einer beliebigen Person."
      ]
    },
    {
      "cell_type": "code",
      "execution_count": null,
      "metadata": {
        "id": "4AvEq0CdjGOZ"
      },
      "outputs": [],
      "source": [
        "#! git clone https://github.com/FlorianWolff95/DHBW_BI_S24"
      ]
    },
    {
      "cell_type": "code",
      "execution_count": 3,
      "metadata": {},
      "outputs": [],
      "source": [
        "import pandas as pd\n",
        "import numpy as np\n",
        "import matplotlib.pyplot as plt\n",
        "import seaborn as sns\n",
        "\n",
        "import os\n",
        "\n",
        "\n",
        "WORKING_DIR = os.getcwd()\n",
        "\n",
        "if not os.path.exists(os.path.join(WORKING_DIR, \"Daten\")):\n",
        "    DATA_DIR = os.path.join(WORKING_DIR, \"DHBW_BI_S24\", \"Daten\")\n",
        "else:\n",
        "    DATA_DIR = os.path.join(WORKING_DIR, \"Daten\")"
      ]
    },
    {
      "cell_type": "code",
      "execution_count": null,
      "metadata": {},
      "outputs": [],
      "source": [
        "df = pd.read_csv(os.path.join(DATA_DIR, \"Obesity\", \"ObesityDataSet.csv\"))\n",
        "df.columns = df.columns.str.strip().str.lower()\n",
        "df.head()"
      ]
    },
    {
      "cell_type": "code",
      "execution_count": null,
      "metadata": {},
      "outputs": [],
      "source": [
        "full_col_names = dict(\n",
        "    {\n",
        "        \"favc\": \"Frequent consumption of high caloric food\",\n",
        "        \"fcva\": \"Frequency of consumption of vegetables\",\n",
        "        \"ncp\": \"Number of main meal\",\n",
        "        \"caec\": \"Consumption of food between meals\",\n",
        "        \"ch2o\": \"Consumption of water daily\",\n",
        "        \"scc\": \"Calories consumption monitoring\",\n",
        "        \"faf\": \"Physical activity frequency\",\n",
        "        \"tue\": \"Time using technology devices\",\n",
        "        \"calc\": \"Consumption of alcohol\",\n",
        "        \"mtrans\": \"Transportation used\",\n",
        "    }\n",
        ")"
      ]
    },
    {
      "cell_type": "markdown",
      "metadata": {},
      "source": [
        "## 1. **Vorüberlegung:** Es handelt sich um MultiClass Klassifikation."
      ]
    },
    {
      "cell_type": "markdown",
      "metadata": {},
      "source": [
        "## 2. **Datenexploration**\n",
        "\n",
        "Es ist das Ziel anhand des Essverhaltens, Alter und Geschlecht vorherzusagen welches Adiporitaslevel `NObeyesdad` hat.\n",
        "Da `NObeyesdad` bestimmt wird über den `BMI`, welcher sich berechnet aus `height` und `weight`, können diese Spalten nicht zur Vorhersage verwendet werden."
      ]
    },
    {
      "cell_type": "code",
      "execution_count": null,
      "metadata": {},
      "outputs": [],
      "source": [
        "FEATURES = [\n",
        "    \"age\",\n",
        "    \"family_history_with_overweight\",\n",
        "    \"favc\",\n",
        "    \"ncp\",\n",
        "    \"caec\",\n",
        "    \"smoke\",\n",
        "    \"ch2o\",\n",
        "    \"scc\",\n",
        "    \"faf\",\n",
        "    \"tue\",\n",
        "    \"mtrans\",\n",
        "    \"calc\",\n",
        "]\n",
        "TARGET = \"nobeyesdad\""
      ]
    },
    {
      "cell_type": "code",
      "execution_count": null,
      "metadata": {},
      "outputs": [],
      "source": [
        "df.info()"
      ]
    },
    {
      "cell_type": "code",
      "execution_count": null,
      "metadata": {},
      "outputs": [],
      "source": [
        "col_cat = [\"gender\", \"caec\", \"calc\", \"mtrans\", \"nobeyesdad\"]\n",
        "cat_bool = [\"family_history_with_overweight\", \"favc\", \"smoke\", \"scc\"]\n",
        "cat_num = df.select_dtypes(\"float64\").columns.tolist()\n",
        "\n",
        "df[col_cat] = df[col_cat].astype(\"category\")\n",
        "\n",
        "df[cat_bool] = df[cat_bool].replace({\"no\": 0, \"yes\": 1}).astype(\"bool\")"
      ]
    },
    {
      "cell_type": "code",
      "execution_count": null,
      "metadata": {},
      "outputs": [],
      "source": [
        "df.head()"
      ]
    },
    {
      "cell_type": "code",
      "execution_count": null,
      "metadata": {},
      "outputs": [],
      "source": [
        "df.info()"
      ]
    },
    {
      "cell_type": "code",
      "execution_count": null,
      "metadata": {},
      "outputs": [],
      "source": [
        "df.describe()"
      ]
    },
    {
      "cell_type": "code",
      "execution_count": null,
      "metadata": {},
      "outputs": [],
      "source": [
        "# Check for missing values\n",
        "df.isna().sum()"
      ]
    },
    {
      "cell_type": "code",
      "execution_count": null,
      "metadata": {},
      "outputs": [],
      "source": [
        "# distributions of col_cat\n",
        "for x in col_cat:\n",
        "    print(df[x].value_counts(normalize=True))\n",
        "    print(\"\\n\")"
      ]
    },
    {
      "cell_type": "code",
      "execution_count": null,
      "metadata": {},
      "outputs": [],
      "source": [
        "fig, ax = plt.subplots(len(cat_num), 1, figsize=(15, 30), sharex=False)\n",
        "sns.set_style(\"whitegrid\")\n",
        "for i, col in enumerate(cat_num):\n",
        "    sns.violinplot(x=TARGET, y=col, data=df, ax=ax[i], hue=\"gender\", split=False)\n",
        "    if col in full_col_names.keys():\n",
        "        ax[i].set_ylabel(full_col_names[col])\n",
        "\n",
        "plt.tight_layout()\n",
        "plt.show()"
      ]
    },
    {
      "cell_type": "code",
      "execution_count": null,
      "metadata": {},
      "outputs": [],
      "source": [
        "col_features_cat = df[FEATURES].select_dtypes(\"category\").columns.tolist() + cat_bool\n",
        "_, ax = plt.subplots(\n",
        "    len(col_features_cat),\n",
        "    2,\n",
        "    figsize=(15, len(col_features_cat) * 4),\n",
        "    width_ratios=[1, 4],\n",
        ")\n",
        "sns.set_theme(style=\"whitegrid\")\n",
        "for i, col in enumerate(col_features_cat):\n",
        "    sns.countplot(y=col, data=df, ax=ax[i, 0])\n",
        "    sns.countplot(x=col, data=df, ax=ax[i, 1], hue=TARGET)\n",
        "    if col in full_col_names.keys():\n",
        "        ax[i, 0].set_ylabel(full_col_names[col])\n",
        "        ax[i, 1].set_xlabel(full_col_names[col])\n",
        "\n",
        "plt.tight_layout()\n",
        "plt.show()"
      ]
    },
    {
      "cell_type": "markdown",
      "metadata": {},
      "source": [
        "## 4. Modell trainieren"
      ]
    },
    {
      "cell_type": "code",
      "execution_count": 2,
      "metadata": {},
      "outputs": [
        {
          "name": "stderr",
          "output_type": "stream",
          "text": [
            "c:\\Users\\florian.wolff\\AppData\\Local\\anaconda3\\envs\\isg_data_science\\Lib\\site-packages\\tqdm\\auto.py:21: TqdmWarning: IProgress not found. Please update jupyter and ipywidgets. See https://ipywidgets.readthedocs.io/en/stable/user_install.html\n",
            "  from .autonotebook import tqdm as notebook_tqdm\n"
          ]
        }
      ],
      "source": [
        "from xgboost import XGBClassifier\n",
        "from sklearn.model_selection import train_test_split, cross_val_score, StratifiedKFold\n",
        "from sklearn.metrics import (\n",
        "    classification_report,\n",
        "    confusion_matrix,\n",
        "    accuracy_score,\n",
        "    roc_auc_score,\n",
        "    roc_curve,\n",
        "    auc,\n",
        "    f1_score,\n",
        "    precision_score,\n",
        "    recall_score,\n",
        ")\n",
        "from sklearn.preprocessing import LabelEncoder, OneHotEncoder\n",
        "from sklearn.compose import ColumnTransformer\n",
        "import optuna\n",
        "\n",
        "\n",
        "def is_running_in_colab():\n",
        "    try:\n",
        "        import google.colab\n",
        "        import torch\n",
        "\n",
        "        return True\n",
        "    except ImportError:\n",
        "        return False"
      ]
    },
    {
      "cell_type": "code",
      "execution_count": null,
      "metadata": {},
      "outputs": [],
      "source": [
        "# One hot encoding\n",
        "one_hot_enc = ColumnTransformer(\n",
        "    transformers=[\n",
        "        (\n",
        "            \"cat\",\n",
        "            OneHotEncoder(),\n",
        "            df[FEATURES].select_dtypes(\"category\").columns.tolist(),\n",
        "        ),\n",
        "    ],\n",
        "    remainder=\"passthrough\",\n",
        ")\n",
        "\n",
        "# Label encoding\n",
        "label_enc = LabelEncoder()\n",
        "\n",
        "# Apply transformations\n",
        "X = one_hot_enc.fit_transform(df[FEATURES])\n",
        "y = label_enc.fit_transform(df[TARGET])\n",
        "\n",
        "# Split the data\n",
        "X_train, X_test, y_train, y_test = train_test_split(\n",
        "    X, y, test_size=0.2, random_state=42, stratify=y\n",
        ")"
      ]
    },
    {
      "cell_type": "code",
      "execution_count": null,
      "metadata": {},
      "outputs": [],
      "source": [
        "def objective(trial):\n",
        "\n",
        "    params = {\n",
        "        \"grow_policy\": trial.suggest_categorical(\n",
        "            \"grow_policy\", [\"depthwise\", \"lossguide\"]\n",
        "        ),\n",
        "        \"n_estimators\": trial.suggest_int(\"n_estimators\", 100, 2000),\n",
        "        \"learning_rate\": trial.suggest_float(\"learning_rate\", 0.01, 1.0),\n",
        "        \"gamma\": trial.suggest_float(\"gamma\", 1e-9, 1.0),\n",
        "        \"subsample\": trial.suggest_float(\"subsample\", 0.25, 1.0),\n",
        "        \"colsample_bytree\": trial.suggest_float(\"colsample_bytree\", 0.25, 1.0),\n",
        "        \"max_depth\": trial.suggest_int(\"max_depth\", 0, 24),\n",
        "        \"min_child_weight\": trial.suggest_int(\"min_child_weight\", 1, 30),\n",
        "        \"reg_lambda\": trial.suggest_float(\"reg_lambda\", 1e-9, 10.0, log=True),\n",
        "        \"reg_alpha\": trial.suggest_float(\"reg_alpha\", 1e-9, 10.0, log=True),\n",
        "    }\n",
        "    if is_running_in_colab():\n",
        "        params[\"tree_method\"] = \"gpu_hist\"\n",
        "        params[\"device\"] = \"cuda\"\n",
        "    else:\n",
        "        params[\"tree_method\"] = \"hist\"\n",
        "        params[\"n_jobs\"] = -1\n",
        "\n",
        "    params[\"booster\"] = \"gbtree\"\n",
        "    params[\"objective\"] = \"multi:softmax\"\n",
        "    params[\"verbosity\"] = 0\n",
        "    params[\"num_class\"] = 7\n",
        "\n",
        "    model = XGBClassifier(**params, seed=42)\n",
        "\n",
        "    cv = StratifiedKFold(n_splits=5, shuffle=True, random_state=42)\n",
        "    scores = cross_val_score(model, X_train, y_train, cv=cv, scoring=\"accuracy\")\n",
        "    return scores.mean()\n",
        "\n",
        "\n",
        "xgb_study = optuna.create_study(direction=\"maximize\", study_name=\"XGBoost\")\n",
        "xgb_study.optimize(objective, n_trials=50)"
      ]
    }
  ],
  "metadata": {
    "colab": {
      "authorship_tag": "ABX9TyMKkrr/a6yTbpm0XkzD5viO",
      "include_colab_link": true,
      "provenance": []
    },
    "kernelspec": {
      "display_name": "Python 3",
      "name": "python3"
    },
    "language_info": {
      "codemirror_mode": {
        "name": "ipython",
        "version": 3
      },
      "file_extension": ".py",
      "mimetype": "text/x-python",
      "name": "python",
      "nbconvert_exporter": "python",
      "pygments_lexer": "ipython3",
      "version": "3.11.5"
    }
  },
  "nbformat": 4,
  "nbformat_minor": 0
}
