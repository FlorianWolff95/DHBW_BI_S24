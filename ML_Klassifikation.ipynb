{
  "cells": [
    {
      "cell_type": "markdown",
      "metadata": {
        "colab_type": "text",
        "id": "view-in-github"
      },
      "source": [
        "<a href=\"https://colab.research.google.com/github/AlexKressner/Business_Intelligence/blob/main/ML_Klassifikation.ipynb\" target=\"_parent\"><img src=\"https://colab.research.google.com/assets/colab-badge.svg\" alt=\"Open In Colab\"/></a>"
      ]
    },
    {
      "cell_type": "markdown",
      "id": "TlEeS6BHfKV9",
      "metadata": {
        "id": "TlEeS6BHfKV9"
      },
      "source": [
        "# Machine Learning: Klassifikation, Beispiel Diabetes\n",
        "Im nachfolgenden Beispiel werden wir ein ML-Verfahren einsetzen, um anhand von Untersuchungsergebnissen vorherzusagen, ob ein Patient Diabetes hat. Es handelt sich dabei um eine Klassifikationsproblem (Diabetes/ keine Diabetes). Wir verwenden einen Datensatz mit folgenden Informationen:\n",
        "1. Anzahl Schwangerschaften\n",
        "1. Glukosekonzentration nach Glukosetoleranztest\n",
        "1. Blutdruck (mm Hg)\n",
        "1. Dicke der Trizepshautfalte (mm)\n",
        "1. Insulinwert (mu U/ml)\n",
        "1. Body mass index\n",
        "1. Diabetesvorbelastungsfunktion\n",
        "1. Alter (Jahre)\n",
        "1. Diabetes (0/1)"
      ]
    },
    {
      "cell_type": "markdown",
      "id": "fosefoRciSNO",
      "metadata": {
        "id": "fosefoRciSNO"
      },
      "source": [
        "## 1 Daten laden"
      ]
    },
    {
      "cell_type": "code",
      "execution_count": null,
      "id": "LGrl_jqcfXzd",
      "metadata": {
        "id": "LGrl_jqcfXzd"
      },
      "outputs": [],
      "source": [
        "import pandas as pd"
      ]
    },
    {
      "cell_type": "code",
      "execution_count": null,
      "id": "I-5QslQG1kr3",
      "metadata": {
        "colab": {
          "base_uri": "https://localhost:8080/"
        },
        "id": "I-5QslQG1kr3",
        "outputId": "a221e23b-1115-4f83-b5b0-3a9c38f04684"
      },
      "outputs": [],
      "source": [
        "#! git clone https://github.com/AlexKressner/Business_Intelligence"
      ]
    },
    {
      "cell_type": "code",
      "execution_count": null,
      "id": "oL-HwWpZeg-J",
      "metadata": {
        "id": "oL-HwWpZeg-J"
      },
      "outputs": [],
      "source": [
        "path = \"Business_Intelligence/Daten/ML_Klassifikation/\""
      ]
    },
    {
      "cell_type": "code",
      "execution_count": null,
      "id": "RgxArxyKgSSu",
      "metadata": {
        "id": "RgxArxyKgSSu"
      },
      "outputs": [],
      "source": [
        "# Daten laden\n",
        "data = pd.read_csv(f\"{path}diabetes.txt\")"
      ]
    },
    {
      "cell_type": "code",
      "execution_count": null,
      "id": "xxYFISLOgbiP",
      "metadata": {
        "colab": {
          "base_uri": "https://localhost:8080/"
        },
        "id": "xxYFISLOgbiP",
        "outputId": "3323da2f-6491-468d-fb03-65862f294943"
      },
      "outputs": [],
      "source": [
        "data.dtypes"
      ]
    },
    {
      "cell_type": "markdown",
      "id": "HsigSaVPCMeT",
      "metadata": {
        "id": "HsigSaVPCMeT"
      },
      "source": [
        "## 2 Datensatz in Features und Target teilen\n",
        "\n",
        "Wie bereits zuvor müssen wir unterscheiden, was vorhergesagt werden soll (**Target**) und welche Merkmale dazu genutzt werden sollen (**Features**)."
      ]
    },
    {
      "cell_type": "code",
      "execution_count": null,
      "id": "z-uyIdD-d-eB",
      "metadata": {
        "colab": {
          "base_uri": "https://localhost:8080/",
          "height": 204
        },
        "id": "z-uyIdD-d-eB",
        "outputId": "b9d3e394-89c1-4899-eefd-d69526dbc123"
      },
      "outputs": [],
      "source": [
        "# Features, d.h. womit lässt sich Diabetes prognostizeren!\n",
        "X = data.drop(columns=\"diabetes\")\n",
        "X.head()"
      ]
    },
    {
      "cell_type": "code",
      "execution_count": null,
      "id": "vmpeKoYICZUE",
      "metadata": {
        "colab": {
          "base_uri": "https://localhost:8080/"
        },
        "id": "vmpeKoYICZUE",
        "outputId": "7d0ad4fa-6223-4754-adc1-224768d44c84"
      },
      "outputs": [],
      "source": [
        "# Target, d.h. was soll prognostiziert werden!\n",
        "y = data[\"diabetes\"]\n",
        "y.head()"
      ]
    },
    {
      "cell_type": "markdown",
      "id": "l2eJRG5ICjbo",
      "metadata": {
        "id": "l2eJRG5ICjbo"
      },
      "source": [
        "## 2.2 Datensatz in Trainings- und Testmenge aufteilen\n",
        "Erneut müssen wir die Daten aufteilen. Da wir ausschließlich mit numerischen Daten arbeiten, müssen wir keine Datenaufbereitung über `pd.get_dummies` vornehmen."
      ]
    },
    {
      "cell_type": "code",
      "execution_count": null,
      "id": "DkUWgtB8DKCI",
      "metadata": {
        "id": "DkUWgtB8DKCI"
      },
      "outputs": [],
      "source": [
        "from sklearn.model_selection import train_test_split"
      ]
    },
    {
      "cell_type": "code",
      "execution_count": null,
      "id": "QVKROgWUCeP_",
      "metadata": {
        "id": "QVKROgWUCeP_"
      },
      "outputs": [],
      "source": [
        "# X und y werden in Trainings- und Testmenge aufgeteilt, so dass die Testmenge 20% der vorhandenen Daten hat\n",
        "X_train, X_test, y_train, y_test = train_test_split(X, y, test_size=0.2, random_state=3)"
      ]
    },
    {
      "cell_type": "code",
      "execution_count": null,
      "id": "ajWtX075CxNn",
      "metadata": {
        "colab": {
          "base_uri": "https://localhost:8080/"
        },
        "id": "ajWtX075CxNn",
        "outputId": "5d77314a-35e3-43ba-bd42-d00814541784"
      },
      "outputs": [],
      "source": [
        "y_train.head()"
      ]
    },
    {
      "cell_type": "code",
      "execution_count": null,
      "id": "SApJDY4jDZJW",
      "metadata": {
        "colab": {
          "base_uri": "https://localhost:8080/",
          "height": 204
        },
        "id": "SApJDY4jDZJW",
        "outputId": "fe086ca5-0668-4513-ebcb-d538ecbddabc"
      },
      "outputs": [],
      "source": [
        "X_train.head()"
      ]
    },
    {
      "cell_type": "markdown",
      "id": "DZH4B74CDepm",
      "metadata": {
        "id": "DZH4B74CDepm"
      },
      "source": [
        "## 2.3 Modell auswählen\n",
        "\n",
        "Erneut verwenden wir das Verfahren `Random Forest`. Sie müssen allerdings darauf achten, dass Sie einen Random Forest zur Klassifikation importieren. Aus diesem Grund verwenden wir das Verfahren `RandomForestClassifier`. Für die Regressionaufgabe hatten wir das Verfahren `RandomForestRegressor` genutzt. Achten Sie auf diesen wichtigen Unterschied!"
      ]
    },
    {
      "cell_type": "code",
      "execution_count": null,
      "id": "hRJ3fQsFDXL_",
      "metadata": {
        "id": "hRJ3fQsFDXL_"
      },
      "outputs": [],
      "source": [
        "from sklearn.ensemble import RandomForestClassifier"
      ]
    },
    {
      "cell_type": "code",
      "execution_count": null,
      "id": "cKGnyxJRDqIY",
      "metadata": {
        "id": "cKGnyxJRDqIY"
      },
      "outputs": [],
      "source": [
        "model = RandomForestClassifier()"
      ]
    },
    {
      "cell_type": "markdown",
      "id": "LatzmZt2Dxj6",
      "metadata": {
        "id": "LatzmZt2Dxj6"
      },
      "source": [
        "## 2.4 Modell trainieren\n",
        "\n",
        "Das Random Forest Verfahren versucht nun einen Zusammenhang zwischen den Features und dem Target zu lernen und minimiert dabei ein Fehlermaß. Letzteres misst den Grad der Fehlklassifikation. Beispiel für Fehlklassifikation: Das Modell prognostiziert Diabetes für einen Patienten, in der Realität liegt die Erkrankung aber nicht vor."
      ]
    },
    {
      "cell_type": "code",
      "execution_count": null,
      "id": "ioXqSKqaDslO",
      "metadata": {
        "colab": {
          "base_uri": "https://localhost:8080/",
          "height": 74
        },
        "id": "ioXqSKqaDslO",
        "outputId": "58506ac5-eda6-4b41-ef21-f2bf4219cac4"
      },
      "outputs": [],
      "source": [
        "model.fit(X_train, y_train)"
      ]
    },
    {
      "cell_type": "markdown",
      "id": "SnHwdqNWESSV",
      "metadata": {
        "id": "SnHwdqNWESSV"
      },
      "source": [
        "## 2.5 Modell anwenden\n",
        "\n",
        "Das ML-Verfahren erhält die Daten `X_test`, d.h. die Untersuchungsergebnisse mit den relevanten Merkmalen und wendet die gelernten Zusammenhänge zur Prognose des Targets an, d.h. dem Vorhandensein von Diabetes (0/1)!"
      ]
    },
    {
      "cell_type": "code",
      "execution_count": null,
      "id": "wrwvLvagNqWn",
      "metadata": {
        "colab": {
          "base_uri": "https://localhost:8080/",
          "height": 204
        },
        "id": "wrwvLvagNqWn",
        "outputId": "81cc99d5-07fb-44bb-9459-28838d19f499"
      },
      "outputs": [],
      "source": [
        "X_test.head()"
      ]
    },
    {
      "cell_type": "code",
      "execution_count": null,
      "id": "Lw2VrYolEL1G",
      "metadata": {
        "id": "Lw2VrYolEL1G"
      },
      "outputs": [],
      "source": [
        "y_pred = model.predict(X_test)"
      ]
    },
    {
      "cell_type": "code",
      "execution_count": null,
      "id": "OWgwM9eXG5F-",
      "metadata": {
        "colab": {
          "base_uri": "https://localhost:8080/"
        },
        "id": "OWgwM9eXG5F-",
        "outputId": "2cb1062d-33c8-42c2-edd8-27168e99c303"
      },
      "outputs": [],
      "source": [
        "y_pred"
      ]
    },
    {
      "cell_type": "code",
      "execution_count": null,
      "id": "7D5AcDlVHgba",
      "metadata": {
        "colab": {
          "base_uri": "https://localhost:8080/"
        },
        "id": "7D5AcDlVHgba",
        "outputId": "d21c7a88-d75a-43a3-e97d-64dd9e359297"
      },
      "outputs": [],
      "source": [
        "y_test.values"
      ]
    },
    {
      "cell_type": "code",
      "execution_count": null,
      "id": "c-W-DIk7F-Ag",
      "metadata": {
        "colab": {
          "base_uri": "https://localhost:8080/",
          "height": 359
        },
        "id": "c-W-DIk7F-Ag",
        "outputId": "d9ed8865-1103-49ec-e018-494ee4348a59"
      },
      "outputs": [],
      "source": [
        "pd.DataFrame({\"Vorhersage\":pd.Series(y_pred), \"Beobachtung\":pd.Series(y_test.values)},).head(10)"
      ]
    },
    {
      "cell_type": "markdown",
      "id": "2LtmLpD4EkIp",
      "metadata": {
        "id": "2LtmLpD4EkIp"
      },
      "source": [
        "## 2.6 Modell evaluieren\n",
        "\n",
        "Die Modellbewertung erfolgt bei der Klassifikation regelmäßg nach dem Kriterium der \"Accuracy\" (andere kommen aber auch zum Einsatz). Die Accuracy setzt die Anzahl der korrekten Klassifikation in das Verhältnis zur Anzahl aller Beobachtungen. Dementsprechend stellt sie den Anteil der korrekten Klassifikationen dar."
      ]
    },
    {
      "cell_type": "code",
      "execution_count": null,
      "id": "fym0CYnXkyHo",
      "metadata": {
        "id": "fym0CYnXkyHo"
      },
      "outputs": [],
      "source": [
        "from sklearn import metrics\n",
        "import matplotlib.pyplot as plt"
      ]
    },
    {
      "cell_type": "code",
      "execution_count": null,
      "id": "QFRaMmh7Ef47",
      "metadata": {
        "colab": {
          "base_uri": "https://localhost:8080/"
        },
        "id": "QFRaMmh7Ef47",
        "outputId": "20d9f1fc-3274-4987-839a-478a68f16ea1"
      },
      "outputs": [],
      "source": [
        "metrics.accuracy_score(y_test, y_pred) * 100"
      ]
    },
    {
      "cell_type": "code",
      "execution_count": null,
      "id": "g_2GU6ppEvOP",
      "metadata": {
        "colab": {
          "base_uri": "https://localhost:8080/",
          "height": 455
        },
        "id": "g_2GU6ppEvOP",
        "outputId": "5910191f-c1de-4b02-d4f3-1791897ad092"
      },
      "outputs": [],
      "source": [
        "conf_matrix = metrics.confusion_matrix(y_test, y_pred, labels=model.classes_)\n",
        "disp = metrics.ConfusionMatrixDisplay(conf_matrix, display_labels=model.classes_)\n",
        "disp.plot()\n",
        "plt.show()"
      ]
    },
    {
      "cell_type": "markdown",
      "id": "2cyFGiBeFTmH",
      "metadata": {
        "id": "2cyFGiBeFTmH"
      },
      "source": [
        "# Übungsaufgabe\n",
        "Das Versinken der Titanic ist eines der berüchtigtsten Schiffsunglücke in der Geschichte.\n",
        "\n",
        "Am 15. April 1912, während ihrer Jungfernfahrt, sank die weithin als „unsinkbar“ betrachtete RMS Titanic, nachdem sie mit einem Eisberg kollidiert war. Leider gab es nicht genügend Rettungsboote für alle an Bord, was zum Tod von 1502 der 2224 Passagiere und Besatzungsmitglieder führte.\n",
        "\n",
        "Obwohl beim Überleben auch ein Element des Glücks eine Rolle spielte, scheint es, dass einige Gruppen von Menschen eine höhere Überlebenschance hatten als andere.\n",
        "\n",
        "Erstellen Sie bitte ein Vorhersagemodell, das die Frage beantwortet: „Welche Art von Personen hatten eine höhere Überlebenschance?“ unter Verwendung von Passagierdaten (z.B. Name, Alter, Geschlecht, sozioökonomische Klasse usw.).\n",
        "\n",
        "Die Daten finden Sie in der Datei `titanic.csv`."
      ]
    },
    {
      "cell_type": "code",
      "execution_count": 2,
      "id": "b319968d",
      "metadata": {},
      "outputs": [],
      "source": [
        "import pandas as pd\n",
        "import numpy as np\n",
        "import matplotlib.pyplot as plt\n",
        "import seaborn as sns\n"
      ]
    },
    {
      "cell_type": "code",
      "execution_count": 3,
      "id": "L1KtuWnbnYaG",
      "metadata": {
        "id": "L1KtuWnbnYaG"
      },
      "outputs": [
        {
          "name": "stdout",
          "output_type": "stream",
          "text": [
            "<class 'pandas.core.frame.DataFrame'>\n",
            "RangeIndex: 891 entries, 0 to 890\n",
            "Data columns (total 12 columns):\n",
            " #   Column       Non-Null Count  Dtype  \n",
            "---  ------       --------------  -----  \n",
            " 0   PassengerId  891 non-null    int64  \n",
            " 1   Survived     891 non-null    int64  \n",
            " 2   Pclass       891 non-null    int64  \n",
            " 3   Name         891 non-null    object \n",
            " 4   Sex          891 non-null    object \n",
            " 5   Age          714 non-null    float64\n",
            " 6   SibSp        891 non-null    int64  \n",
            " 7   Parch        891 non-null    int64  \n",
            " 8   Ticket       891 non-null    object \n",
            " 9   Fare         891 non-null    float64\n",
            " 10  Cabin        204 non-null    object \n",
            " 11  Embarked     889 non-null    object \n",
            "dtypes: float64(2), int64(5), object(5)\n",
            "memory usage: 83.7+ KB\n"
          ]
        },
        {
          "data": {
            "text/html": [
              "<div>\n",
              "<style scoped>\n",
              "    .dataframe tbody tr th:only-of-type {\n",
              "        vertical-align: middle;\n",
              "    }\n",
              "\n",
              "    .dataframe tbody tr th {\n",
              "        vertical-align: top;\n",
              "    }\n",
              "\n",
              "    .dataframe thead th {\n",
              "        text-align: right;\n",
              "    }\n",
              "</style>\n",
              "<table border=\"1\" class=\"dataframe\">\n",
              "  <thead>\n",
              "    <tr style=\"text-align: right;\">\n",
              "      <th></th>\n",
              "      <th>PassengerId</th>\n",
              "      <th>Survived</th>\n",
              "      <th>Pclass</th>\n",
              "      <th>Name</th>\n",
              "      <th>Sex</th>\n",
              "      <th>Age</th>\n",
              "      <th>SibSp</th>\n",
              "      <th>Parch</th>\n",
              "      <th>Ticket</th>\n",
              "      <th>Fare</th>\n",
              "      <th>Cabin</th>\n",
              "      <th>Embarked</th>\n",
              "    </tr>\n",
              "  </thead>\n",
              "  <tbody>\n",
              "    <tr>\n",
              "      <th>0</th>\n",
              "      <td>1</td>\n",
              "      <td>0</td>\n",
              "      <td>3</td>\n",
              "      <td>Braund, Mr. Owen Harris</td>\n",
              "      <td>male</td>\n",
              "      <td>22.0</td>\n",
              "      <td>1</td>\n",
              "      <td>0</td>\n",
              "      <td>A/5 21171</td>\n",
              "      <td>7.2500</td>\n",
              "      <td>NaN</td>\n",
              "      <td>S</td>\n",
              "    </tr>\n",
              "    <tr>\n",
              "      <th>1</th>\n",
              "      <td>2</td>\n",
              "      <td>1</td>\n",
              "      <td>1</td>\n",
              "      <td>Cumings, Mrs. John Bradley (Florence Briggs Th...</td>\n",
              "      <td>female</td>\n",
              "      <td>38.0</td>\n",
              "      <td>1</td>\n",
              "      <td>0</td>\n",
              "      <td>PC 17599</td>\n",
              "      <td>71.2833</td>\n",
              "      <td>C85</td>\n",
              "      <td>C</td>\n",
              "    </tr>\n",
              "    <tr>\n",
              "      <th>2</th>\n",
              "      <td>3</td>\n",
              "      <td>1</td>\n",
              "      <td>3</td>\n",
              "      <td>Heikkinen, Miss. Laina</td>\n",
              "      <td>female</td>\n",
              "      <td>26.0</td>\n",
              "      <td>0</td>\n",
              "      <td>0</td>\n",
              "      <td>STON/O2. 3101282</td>\n",
              "      <td>7.9250</td>\n",
              "      <td>NaN</td>\n",
              "      <td>S</td>\n",
              "    </tr>\n",
              "    <tr>\n",
              "      <th>3</th>\n",
              "      <td>4</td>\n",
              "      <td>1</td>\n",
              "      <td>1</td>\n",
              "      <td>Futrelle, Mrs. Jacques Heath (Lily May Peel)</td>\n",
              "      <td>female</td>\n",
              "      <td>35.0</td>\n",
              "      <td>1</td>\n",
              "      <td>0</td>\n",
              "      <td>113803</td>\n",
              "      <td>53.1000</td>\n",
              "      <td>C123</td>\n",
              "      <td>S</td>\n",
              "    </tr>\n",
              "    <tr>\n",
              "      <th>4</th>\n",
              "      <td>5</td>\n",
              "      <td>0</td>\n",
              "      <td>3</td>\n",
              "      <td>Allen, Mr. William Henry</td>\n",
              "      <td>male</td>\n",
              "      <td>35.0</td>\n",
              "      <td>0</td>\n",
              "      <td>0</td>\n",
              "      <td>373450</td>\n",
              "      <td>8.0500</td>\n",
              "      <td>NaN</td>\n",
              "      <td>S</td>\n",
              "    </tr>\n",
              "  </tbody>\n",
              "</table>\n",
              "</div>"
            ],
            "text/plain": [
              "   PassengerId  Survived  Pclass  \\\n",
              "0            1         0       3   \n",
              "1            2         1       1   \n",
              "2            3         1       3   \n",
              "3            4         1       1   \n",
              "4            5         0       3   \n",
              "\n",
              "                                                Name     Sex   Age  SibSp  \\\n",
              "0                            Braund, Mr. Owen Harris    male  22.0      1   \n",
              "1  Cumings, Mrs. John Bradley (Florence Briggs Th...  female  38.0      1   \n",
              "2                             Heikkinen, Miss. Laina  female  26.0      0   \n",
              "3       Futrelle, Mrs. Jacques Heath (Lily May Peel)  female  35.0      1   \n",
              "4                           Allen, Mr. William Henry    male  35.0      0   \n",
              "\n",
              "   Parch            Ticket     Fare Cabin Embarked  \n",
              "0      0         A/5 21171   7.2500   NaN        S  \n",
              "1      0          PC 17599  71.2833   C85        C  \n",
              "2      0  STON/O2. 3101282   7.9250   NaN        S  \n",
              "3      0            113803  53.1000  C123        S  \n",
              "4      0            373450   8.0500   NaN        S  "
            ]
          },
          "execution_count": 3,
          "metadata": {},
          "output_type": "execute_result"
        }
      ],
      "source": [
        "df = pd.read_csv(r\"Daten\\ML_Klassifikation\\titanic.csv\")\n",
        "df.info()\n",
        "df.head()"
      ]
    },
    {
      "cell_type": "code",
      "execution_count": 4,
      "id": "024e8031",
      "metadata": {},
      "outputs": [],
      "source": [
        "df.drop(columns=[\"Name\", \"Ticket\", \"Cabin\",\"PassengerId\", \"Fare\"], inplace=True)\n"
      ]
    },
    {
      "cell_type": "code",
      "execution_count": 5,
      "id": "cc39e760",
      "metadata": {},
      "outputs": [
        {
          "data": {
            "text/html": [
              "<div>\n",
              "<style scoped>\n",
              "    .dataframe tbody tr th:only-of-type {\n",
              "        vertical-align: middle;\n",
              "    }\n",
              "\n",
              "    .dataframe tbody tr th {\n",
              "        vertical-align: top;\n",
              "    }\n",
              "\n",
              "    .dataframe thead th {\n",
              "        text-align: right;\n",
              "    }\n",
              "</style>\n",
              "<table border=\"1\" class=\"dataframe\">\n",
              "  <thead>\n",
              "    <tr style=\"text-align: right;\">\n",
              "      <th></th>\n",
              "      <th>Survived</th>\n",
              "      <th>Pclass</th>\n",
              "      <th>Sex</th>\n",
              "      <th>Age</th>\n",
              "      <th>SibSp</th>\n",
              "      <th>Parch</th>\n",
              "      <th>Embarked</th>\n",
              "    </tr>\n",
              "  </thead>\n",
              "  <tbody>\n",
              "    <tr>\n",
              "      <th>0</th>\n",
              "      <td>0</td>\n",
              "      <td>3</td>\n",
              "      <td>male</td>\n",
              "      <td>22.0</td>\n",
              "      <td>1</td>\n",
              "      <td>0</td>\n",
              "      <td>S</td>\n",
              "    </tr>\n",
              "    <tr>\n",
              "      <th>1</th>\n",
              "      <td>1</td>\n",
              "      <td>1</td>\n",
              "      <td>female</td>\n",
              "      <td>38.0</td>\n",
              "      <td>1</td>\n",
              "      <td>0</td>\n",
              "      <td>C</td>\n",
              "    </tr>\n",
              "    <tr>\n",
              "      <th>2</th>\n",
              "      <td>1</td>\n",
              "      <td>3</td>\n",
              "      <td>female</td>\n",
              "      <td>26.0</td>\n",
              "      <td>0</td>\n",
              "      <td>0</td>\n",
              "      <td>S</td>\n",
              "    </tr>\n",
              "    <tr>\n",
              "      <th>3</th>\n",
              "      <td>1</td>\n",
              "      <td>1</td>\n",
              "      <td>female</td>\n",
              "      <td>35.0</td>\n",
              "      <td>1</td>\n",
              "      <td>0</td>\n",
              "      <td>S</td>\n",
              "    </tr>\n",
              "    <tr>\n",
              "      <th>4</th>\n",
              "      <td>0</td>\n",
              "      <td>3</td>\n",
              "      <td>male</td>\n",
              "      <td>35.0</td>\n",
              "      <td>0</td>\n",
              "      <td>0</td>\n",
              "      <td>S</td>\n",
              "    </tr>\n",
              "  </tbody>\n",
              "</table>\n",
              "</div>"
            ],
            "text/plain": [
              "   Survived  Pclass     Sex   Age  SibSp  Parch Embarked\n",
              "0         0       3    male  22.0      1      0        S\n",
              "1         1       1  female  38.0      1      0        C\n",
              "2         1       3  female  26.0      0      0        S\n",
              "3         1       1  female  35.0      1      0        S\n",
              "4         0       3    male  35.0      0      0        S"
            ]
          },
          "execution_count": 5,
          "metadata": {},
          "output_type": "execute_result"
        }
      ],
      "source": [
        "df.head()"
      ]
    },
    {
      "cell_type": "code",
      "execution_count": 6,
      "id": "55fdcb8e",
      "metadata": {},
      "outputs": [],
      "source": [
        "TARGET = [\"Survived\"]\n",
        "FEATURES = [\"Pclass\", \"Sex\", \"Age\", \"Parch\", \"Embarked\"]"
      ]
    },
    {
      "cell_type": "code",
      "execution_count": 7,
      "id": "321c81c0",
      "metadata": {},
      "outputs": [],
      "source": [
        "category_features = [\"Pclass\",\"Sex\", \"Embarked\"]\n",
        "numeric_features = [\"Age\", \"Parch\", \"SibSp\"]"
      ]
    },
    {
      "cell_type": "code",
      "execution_count": 8,
      "id": "47d61631",
      "metadata": {},
      "outputs": [
        {
          "name": "stdout",
          "output_type": "stream",
          "text": [
            "<class 'pandas.core.frame.DataFrame'>\n",
            "RangeIndex: 891 entries, 0 to 890\n",
            "Data columns (total 7 columns):\n",
            " #   Column    Non-Null Count  Dtype   \n",
            "---  ------    --------------  -----   \n",
            " 0   Survived  891 non-null    int64   \n",
            " 1   Pclass    891 non-null    category\n",
            " 2   Sex       891 non-null    category\n",
            " 3   Age       714 non-null    float64 \n",
            " 4   SibSp     891 non-null    int64   \n",
            " 5   Parch     891 non-null    int64   \n",
            " 6   Embarked  889 non-null    category\n",
            "dtypes: category(3), float64(1), int64(3)\n",
            "memory usage: 31.0 KB\n"
          ]
        }
      ],
      "source": [
        "for feature in category_features:\n",
        "    df[feature] = df[feature].astype(\"category\")\n",
        "\n",
        "df.info()"
      ]
    },
    {
      "cell_type": "code",
      "execution_count": 9,
      "id": "f68a94d3",
      "metadata": {},
      "outputs": [
        {
          "name": "stderr",
          "output_type": "stream",
          "text": [
            "C:\\Users\\florian.wolff\\AppData\\Local\\Temp\\ipykernel_17516\\2963806393.py:4: FutureWarning: The default value of numeric_only in DataFrame.corr is deprecated. In a future version, it will default to False. Select only valid columns or specify the value of numeric_only to silence this warning.\n",
            "  sns.heatmap(df.corr(), annot=True, cmap=\"coolwarm\", cbar=False)\n"
          ]
        },
        {
          "data": {
            "image/png": "[encoded data removed]",
            "text/plain": [
              "<Figure size 1000x1000 with 1 Axes>"
            ]
          },
          "metadata": {},
          "output_type": "display_data"
        }
      ],
      "source": [
        "# Visualize correlation matrix\n",
        "\n",
        "plt.figure(figsize=(10, 10))\n",
        "sns.heatmap(df.corr(), annot=True, cmap=\"coolwarm\", cbar=False)\n",
        "plt.show()"
      ]
    },
    {
      "cell_type": "code",
      "execution_count": 10,
      "id": "8396bbed",
      "metadata": {},
      "outputs": [
        {
          "data": {
            "image/png": "[encoded data removed]",
            "text/plain": [
              "<Figure size 1000x500 with 1 Axes>"
            ]
          },
          "metadata": {},
          "output_type": "display_data"
        },
        {
          "data": {
            "image/png": "[encoded data removed]",
            "text/plain": [
              "<Figure size 1000x500 with 1 Axes>"
            ]
          },
          "metadata": {},
          "output_type": "display_data"
        },
        {
          "data": {
            "image/png": "[encoded data removed]",
            "text/plain": [
              "<Figure size 1000x500 with 1 Axes>"
            ]
          },
          "metadata": {},
          "output_type": "display_data"
        }
      ],
      "source": [
        "# Visualize distribution of categoical features\n",
        "\n",
        "for feature in category_features:\n",
        "    plt.figure(figsize=(10, 5))\n",
        "    sns.countplot(data=df, x=feature, hue=\"Survived\")\n",
        "    plt.show()"
      ]
    },
    {
      "cell_type": "code",
      "execution_count": 11,
      "id": "125f6c14",
      "metadata": {},
      "outputs": [],
      "source": [
        "from sklearn.model_selection import train_test_split, cross_validate\n",
        "from sklearn.metrics import (\n",
        "    make_scorer,\n",
        "    precision_score,\n",
        "    recall_score,\n",
        "    f1_score,\n",
        "    accuracy_score,\n",
        "    roc_auc_score, confusion_matrix,\n",
        "    ConfusionMatrixDisplay,\n",
        "    classification_report\n",
        "    )\n",
        "from sklearn.compose import ColumnTransformer\n",
        "from sklearn.preprocessing import OneHotEncoder\n",
        "\n",
        "from lightgbm import LGBMClassifier"
      ]
    },
    {
      "cell_type": "code",
      "execution_count": 12,
      "id": "65c3603a",
      "metadata": {},
      "outputs": [
        {
          "name": "stdout",
          "output_type": "stream",
          "text": [
            "  Pclass     Sex   Age  SibSp  Parch Embarked\n",
            "0      3    male  22.0      1      0        S\n",
            "1      1  female  38.0      1      0        C\n",
            "2      3  female  26.0      0      0        S\n",
            "3      1  female  35.0      1      0        S\n",
            "4      3    male  35.0      0      0        S \n",
            "    Survived\n",
            "0         0\n",
            "1         1\n",
            "2         1\n",
            "3         1\n",
            "4         0\n"
          ]
        }
      ],
      "source": [
        "X = df.drop(columns=TARGET)\n",
        "y = df[TARGET]\n",
        "\n",
        "print(X.head(),\"\\n\", y.head())"
      ]
    },
    {
      "cell_type": "code",
      "execution_count": 13,
      "id": "e079fd04",
      "metadata": {},
      "outputs": [],
      "source": [
        "X_train, X_test, y_train, y_test = train_test_split(X, y, test_size=0.2, random_state=42)\n",
        "\n",
        "model = LGBMClassifier()\n",
        "\n",
        "onhot = OneHotEncoder(handle_unknown=\"ignore\")\n",
        "\n",
        "preprocessor = ColumnTransformer(transformers=[(\"onehot\", onhot, category_features)], remainder=\"passthrough\", verbose_feature_names_out=True).fit(X_train)\n",
        "\n",
        "\n",
        "scoring = {\n",
        "    \"precision\": make_scorer(precision_score),\n",
        "    \"recall\": make_scorer(recall_score),\n",
        "    \"f1\": make_scorer(f1_score),\n",
        "    \"accuracy\": make_scorer(accuracy_score),\n",
        "    \"roc_accuracy\": make_scorer(roc_auc_score),\n",
        "}\n"
      ]
    },
    {
      "cell_type": "code",
      "execution_count": 14,
      "id": "281ad9b3",
      "metadata": {},
      "outputs": [
        {
          "name": "stdout",
          "output_type": "stream",
          "text": [
            "\n",
            "Results for LightGBM:\n",
            "\n",
            "Precision: 0.8034\n",
            "Recall: 0.6937\n",
            "F1 Score: 0.7431\n",
            "Accuracy: 0.8202\n",
            "Roc_Accuracy: 0.7950\n"
          ]
        }
      ],
      "source": [
        "# No changes in the code, it should work as expected\n",
        "scores = cross_validate(\n",
        "    model, preprocessor.transform(X_train), y_train, cv=5, scoring=scoring, n_jobs=-1\n",
        ")\n",
        "\n",
        "print(f\"\\nResults for LightGBM:\\n\")\n",
        "print(\n",
        "    f'Precision: {scores[\"test_precision\"].mean():.4f}'\n",
        ")  # accuracy of positve -> high cost false positives\n",
        "print(\n",
        "    f'Recall: {scores[\"test_recall\"].mean():.4f}'\n",
        ")  # Sensitivity to capture all positive instances -> high cost missing positives\n",
        "print(f'F1 Score: {scores[\"test_f1\"].mean():.4f}')  # Combines precision and recall\n",
        "print(\n",
        "    f'Accuracy: {scores[\"test_accuracy\"].mean():.4f}'\n",
        ")  # ability to distinguish between classes (how sure ist the model of predicted value)\n",
        "print(f'Roc_Accuracy: {scores[\"test_roc_accuracy\"].mean():.4f}')"
      ]
    },
    {
      "cell_type": "code",
      "execution_count": 15,
      "id": "86df1767",
      "metadata": {},
      "outputs": [
        {
          "name": "stderr",
          "output_type": "stream",
          "text": [
            "c:\\Users\\florian.wolff\\AppData\\Local\\anaconda3\\envs\\isg_data_science\\Lib\\site-packages\\sklearn\\preprocessing\\_label.py:99: DataConversionWarning: A column-vector y was passed when a 1d array was expected. Please change the shape of y to (n_samples, ), for example using ravel().\n",
            "  y = column_or_1d(y, warn=True)\n",
            "c:\\Users\\florian.wolff\\AppData\\Local\\anaconda3\\envs\\isg_data_science\\Lib\\site-packages\\sklearn\\preprocessing\\_label.py:134: DataConversionWarning: A column-vector y was passed when a 1d array was expected. Please change the shape of y to (n_samples, ), for example using ravel().\n",
            "  y = column_or_1d(y, dtype=self.classes_.dtype, warn=True)\n"
          ]
        },
        {
          "name": "stdout",
          "output_type": "stream",
          "text": [
            "[LightGBM] [Warning] Accuracy may be bad since you didn't explicitly set num_leaves OR 2^max_depth > num_leaves. (num_leaves=31).\n",
            "[LightGBM] [Warning] Accuracy may be bad since you didn't explicitly set num_leaves OR 2^max_depth > num_leaves. (num_leaves=31).\n",
            "[LightGBM] [Info] Number of positive: 268, number of negative: 444\n",
            "[LightGBM] [Info] Auto-choosing row-wise multi-threading, the overhead of testing was 0.000388 seconds.\n",
            "You can set `force_row_wise=true` to remove the overhead.\n",
            "And if memory is not enough, you can set `force_col_wise=true`.\n",
            "[LightGBM] [Info] Total Bins 90\n",
            "[LightGBM] [Info] Number of data points in the train set: 712, number of used features: 11\n",
            "[LightGBM] [Info] [binary:BoostFromScore]: pavg=0.376404 -> initscore=-0.504838\n",
            "[LightGBM] [Info] Start training from score -0.504838\n",
            "[LightGBM] [Warning] No further splits with positive gain, best gain: -inf\n",
            "[LightGBM] [Warning] No further splits with positive gain, best gain: -inf\n",
            "[LightGBM] [Warning] No further splits with positive gain, best gain: -inf\n",
            "[LightGBM] [Warning] No further splits with positive gain, best gain: -inf\n",
            "[LightGBM] [Warning] No further splits with positive gain, best gain: -inf\n",
            "[LightGBM] [Warning] No further splits with positive gain, best gain: -inf\n",
            "[LightGBM] [Warning] No further splits with positive gain, best gain: -inf\n",
            "[LightGBM] [Warning] No further splits with positive gain, best gain: -inf\n",
            "[LightGBM] [Warning] No further splits with positive gain, best gain: -inf\n",
            "[LightGBM] [Warning] No further splits with positive gain, best gain: -inf\n",
            "[LightGBM] [Warning] No further splits with positive gain, best gain: -inf\n",
            "[LightGBM] [Warning] No further splits with positive gain, best gain: -inf\n",
            "[LightGBM] [Warning] No further splits with positive gain, best gain: -inf\n",
            "[LightGBM] [Warning] No further splits with positive gain, best gain: -inf\n",
            "[LightGBM] [Warning] No further splits with positive gain, best gain: -inf\n",
            "[LightGBM] [Warning] No further splits with positive gain, best gain: -inf\n",
            "[LightGBM] [Warning] No further splits with positive gain, best gain: -inf\n",
            "[LightGBM] [Warning] No further splits with positive gain, best gain: -inf\n",
            "[LightGBM] [Warning] No further splits with positive gain, best gain: -inf\n",
            "[LightGBM] [Warning] No further splits with positive gain, best gain: -inf\n",
            "[LightGBM] [Warning] No further splits with positive gain, best gain: -inf\n",
            "[LightGBM] [Warning] No further splits with positive gain, best gain: -inf\n",
            "[LightGBM] [Warning] No further splits with positive gain, best gain: -inf\n",
            "[LightGBM] [Warning] No further splits with positive gain, best gain: -inf\n",
            "[LightGBM] [Warning] No further splits with positive gain, best gain: -inf\n",
            "[LightGBM] [Warning] No further splits with positive gain, best gain: -inf\n",
            "[LightGBM] [Warning] No further splits with positive gain, best gain: -inf\n",
            "[LightGBM] [Warning] No further splits with positive gain, best gain: -inf\n",
            "[LightGBM] [Warning] No further splits with positive gain, best gain: -inf\n",
            "[LightGBM] [Warning] No further splits with positive gain, best gain: -inf\n",
            "[LightGBM] [Warning] No further splits with positive gain, best gain: -inf\n",
            "[LightGBM] [Warning] No further splits with positive gain, best gain: -inf\n",
            "[LightGBM] [Warning] No further splits with positive gain, best gain: -inf\n",
            "[LightGBM] [Warning] No further splits with positive gain, best gain: -inf\n",
            "[LightGBM] [Warning] No further splits with positive gain, best gain: -inf\n",
            "[LightGBM] [Warning] No further splits with positive gain, best gain: -inf\n",
            "[LightGBM] [Warning] No further splits with positive gain, best gain: -inf\n",
            "[LightGBM] [Warning] No further splits with positive gain, best gain: -inf\n",
            "[LightGBM] [Warning] No further splits with positive gain, best gain: -inf\n",
            "[LightGBM] [Warning] No further splits with positive gain, best gain: -inf\n",
            "[LightGBM] [Warning] No further splits with positive gain, best gain: -inf\n",
            "[LightGBM] [Warning] No further splits with positive gain, best gain: -inf\n",
            "[LightGBM] [Warning] No further splits with positive gain, best gain: -inf\n",
            "[LightGBM] [Warning] No further splits with positive gain, best gain: -inf\n",
            "[LightGBM] [Warning] No further splits with positive gain, best gain: -inf\n",
            "[LightGBM] [Warning] No further splits with positive gain, best gain: -inf\n",
            "[LightGBM] [Warning] No further splits with positive gain, best gain: -inf\n",
            "[LightGBM] [Warning] No further splits with positive gain, best gain: -inf\n",
            "[LightGBM] [Warning] No further splits with positive gain, best gain: -inf\n",
            "[LightGBM] [Warning] No further splits with positive gain, best gain: -inf\n",
            "[LightGBM] [Warning] No further splits with positive gain, best gain: -inf\n",
            "[LightGBM] [Warning] No further splits with positive gain, best gain: -inf\n",
            "[LightGBM] [Warning] No further splits with positive gain, best gain: -inf\n",
            "[LightGBM] [Warning] No further splits with positive gain, best gain: -inf\n",
            "[LightGBM] [Warning] No further splits with positive gain, best gain: -inf\n",
            "[LightGBM] [Warning] No further splits with positive gain, best gain: -inf\n",
            "[LightGBM] [Warning] No further splits with positive gain, best gain: -inf\n",
            "[LightGBM] [Warning] No further splits with positive gain, best gain: -inf\n",
            "[LightGBM] [Warning] No further splits with positive gain, best gain: -inf\n",
            "[LightGBM] [Warning] No further splits with positive gain, best gain: -inf\n",
            "[LightGBM] [Warning] No further splits with positive gain, best gain: -inf\n",
            "[LightGBM] [Warning] No further splits with positive gain, best gain: -inf\n",
            "[LightGBM] [Warning] No further splits with positive gain, best gain: -inf\n",
            "[LightGBM] [Warning] No further splits with positive gain, best gain: -inf\n",
            "[LightGBM] [Warning] No further splits with positive gain, best gain: -inf\n",
            "[LightGBM] [Warning] No further splits with positive gain, best gain: -inf\n",
            "[LightGBM] [Warning] No further splits with positive gain, best gain: -inf\n",
            "[LightGBM] [Warning] No further splits with positive gain, best gain: -inf\n",
            "[LightGBM] [Warning] No further splits with positive gain, best gain: -inf\n",
            "[LightGBM] [Warning] No further splits with positive gain, best gain: -inf\n",
            "[LightGBM] [Warning] No further splits with positive gain, best gain: -inf\n",
            "[LightGBM] [Warning] No further splits with positive gain, best gain: -inf\n",
            "[LightGBM] [Warning] No further splits with positive gain, best gain: -inf\n",
            "[LightGBM] [Warning] No further splits with positive gain, best gain: -inf\n",
            "[LightGBM] [Warning] No further splits with positive gain, best gain: -inf\n",
            "[LightGBM] [Warning] No further splits with positive gain, best gain: -inf\n",
            "[LightGBM] [Warning] No further splits with positive gain, best gain: -inf\n",
            "[LightGBM] [Warning] No further splits with positive gain, best gain: -inf\n",
            "[LightGBM] [Warning] No further splits with positive gain, best gain: -inf\n",
            "[LightGBM] [Warning] No further splits with positive gain, best gain: -inf\n",
            "[LightGBM] [Warning] No further splits with positive gain, best gain: -inf\n",
            "[LightGBM] [Warning] No further splits with positive gain, best gain: -inf\n",
            "[LightGBM] [Warning] No further splits with positive gain, best gain: -inf\n",
            "[LightGBM] [Warning] No further splits with positive gain, best gain: -inf\n",
            "[LightGBM] [Warning] No further splits with positive gain, best gain: -inf\n",
            "[LightGBM] [Warning] No further splits with positive gain, best gain: -inf\n",
            "[LightGBM] [Warning] No further splits with positive gain, best gain: -inf\n",
            "[LightGBM] [Warning] No further splits with positive gain, best gain: -inf\n",
            "[LightGBM] [Warning] No further splits with positive gain, best gain: -inf\n",
            "[LightGBM] [Warning] No further splits with positive gain, best gain: -inf\n",
            "[LightGBM] [Warning] No further splits with positive gain, best gain: -inf\n",
            "[LightGBM] [Warning] No further splits with positive gain, best gain: -inf\n",
            "[LightGBM] [Warning] No further splits with positive gain, best gain: -inf\n",
            "[LightGBM] [Warning] No further splits with positive gain, best gain: -inf\n",
            "[LightGBM] [Warning] No further splits with positive gain, best gain: -inf\n",
            "[LightGBM] [Warning] No further splits with positive gain, best gain: -inf\n",
            "[LightGBM] [Warning] No further splits with positive gain, best gain: -inf\n",
            "[LightGBM] [Warning] No further splits with positive gain, best gain: -inf\n",
            "[LightGBM] [Warning] No further splits with positive gain, best gain: -inf\n",
            "[LightGBM] [Warning] No further splits with positive gain, best gain: -inf\n",
            "Best parameters: {'learning_rate': 0.1, 'max_depth': 7, 'n_estimators': 100, 'num_leaves': 31}\n",
            "Best cross-validated accuracy: 0.8244\n",
            "Best cross-validated ROC-AUC: 0.7998\n"
          ]
        }
      ],
      "source": [
        "# Hyperparameter tuning for LightGBM\n",
        "\n",
        "from sklearn.model_selection import GridSearchCV\n",
        "\n",
        "\n",
        "param_grid = {\n",
        "    \"n_estimators\": [100, 200, 300],\n",
        "    \"learning_rate\": [0.01, 0.1, 0.3],\n",
        "    \"max_depth\": [3, 5, 7],\n",
        "    \"num_leaves\": [31, 127, 255],\n",
        "}\n",
        "\n",
        "scoring = {\"accuracy\": \"accuracy\", \"roc_auc\": make_scorer(roc_auc_score)}\n",
        "\n",
        "grid_search = GridSearchCV(\n",
        "    model, param_grid, cv=5, scoring=scoring, refit=\"roc_auc\", n_jobs=-1\n",
        ")\n",
        "grid_search.fit(preprocessor.transform(X_train), y_train)\n",
        "\n",
        "print(f\"Best parameters: {grid_search.best_params_}\")\n",
        "print(\n",
        "\n",
        "    f'Best cross-validated accuracy: {grid_search.cv_results_[\"mean_test_accuracy\"][grid_search.best_index_]:.4f}'\n",
        "\n",
        ")\n",
        "\n",
        "print(\n",
        "\n",
        "    f'Best cross-validated ROC-AUC: {grid_search.cv_results_[\"mean_test_roc_auc\"][grid_search.best_index_]:.4f}'\n",
        "\n",
        ")"
      ]
    },
    {
      "cell_type": "code",
      "execution_count": 30,
      "id": "bef308a4",
      "metadata": {},
      "outputs": [
        {
          "name": "stderr",
          "output_type": "stream",
          "text": [
            "[I 2024-02-09 09:30:51,341] A new study created in memory with name: no-name-3d2d3fef-7280-49be-a99a-33d68970d8fa\n",
            "[I 2024-02-09 09:30:51,557] Trial 0 finished with value: 0.7768337658972596 and parameters: {'boosting_type': 'gbdt', 'bagging_fraction': 0.7430771212452068, 'objective': 'cross_entropy', 'lambda_l1': 1.34294023459976e-07, 'lambda_l2': 0.00011166072234637481, 'num_leaves': 97, 'feature_fraction': 0.6320479579599302, 'bagging_freq': 1, 'min_child_samples': 33, 'learning_rate': 0.2811170487921273, 'max_depth': 6, 'min_data_in_leaf': 85, 'min_split_gain': 0.08410710824636136, 'subsample': 0.9056962430161771, 'subsample_freq': 6}. Best is trial 0 with value: 0.7768337658972596.\n",
            "[I 2024-02-09 09:30:51,792] Trial 1 finished with value: 0.7573250614404949 and parameters: {'boosting_type': 'dart', 'bagging_fraction': 0.6280575176373616, 'objective': 'binary', 'lambda_l1': 4.081875652744229e-07, 'lambda_l2': 0.015002082409622995, 'num_leaves': 171, 'feature_fraction': 0.9211821044726167, 'bagging_freq': 7, 'min_child_samples': 15, 'learning_rate': 0.2289595449688873, 'max_depth': 10, 'min_data_in_leaf': 97, 'min_split_gain': 0.293822513244405, 'subsample': 0.5363291366165486, 'subsample_freq': 10}. Best is trial 0 with value: 0.7768337658972596.\n",
            "[I 2024-02-09 09:30:52,067] Trial 2 finished with value: 0.7838222429938563 and parameters: {'boosting_type': 'dart', 'bagging_fraction': 0.576032806291047, 'objective': 'cross_entropy', 'lambda_l1': 1.253273713932174e-06, 'lambda_l2': 4.3563229487318244e-05, 'num_leaves': 183, 'feature_fraction': 0.48292394496809815, 'bagging_freq': 3, 'min_child_samples': 23, 'learning_rate': 0.17973350830398682, 'max_depth': 10, 'min_data_in_leaf': 36, 'min_split_gain': 0.10149196384874559, 'subsample': 0.4034655557407342, 'subsample_freq': 1}. Best is trial 2 with value: 0.7838222429938563.\n",
            "[I 2024-02-09 09:30:52,265] Trial 3 finished with value: 0.7813341884679599 and parameters: {'boosting_type': 'gbdt', 'bagging_fraction': 0.9304862619753408, 'objective': 'cross_entropy', 'lambda_l1': 7.729151172295041e-07, 'lambda_l2': 1.4081010739616612e-06, 'num_leaves': 51, 'feature_fraction': 0.5164359964089303, 'bagging_freq': 6, 'min_child_samples': 90, 'learning_rate': 0.16023955071336862, 'max_depth': 10, 'min_data_in_leaf': 42, 'min_split_gain': 0.23675544892686318, 'subsample': 0.4933719362441539, 'subsample_freq': 10}. Best is trial 2 with value: 0.7838222429938563.\n",
            "[I 2024-02-09 09:30:52,554] Trial 4 finished with value: 0.7788220163617662 and parameters: {'boosting_type': 'gbdt', 'bagging_fraction': 0.40694564150180923, 'objective': 'cross_entropy', 'lambda_l1': 9.106302225838323e-06, 'lambda_l2': 0.0019998679313363364, 'num_leaves': 119, 'feature_fraction': 0.7189567125091054, 'bagging_freq': 4, 'min_child_samples': 54, 'learning_rate': 0.2994687158057438, 'max_depth': 7, 'min_data_in_leaf': 60, 'min_split_gain': 0.16451501336931929, 'subsample': 0.4061297506324686, 'subsample_freq': 9}. Best is trial 2 with value: 0.7838222429938563.\n",
            "[I 2024-02-09 09:30:52,771] Trial 5 finished with value: 0.7704586319701858 and parameters: {'boosting_type': 'goss', 'objective': 'cross_entropy', 'lambda_l1': 2.5865694571941046e-05, 'lambda_l2': 0.0008735415311517406, 'num_leaves': 206, 'feature_fraction': 0.48472061709503655, 'bagging_freq': 3, 'min_child_samples': 96, 'learning_rate': 0.22974506069348738, 'max_depth': 3, 'min_data_in_leaf': 49, 'min_split_gain': 0.43807002525283667, 'subsample': 0.6342485324134084, 'subsample_freq': 9}. Best is trial 2 with value: 0.7838222429938563.\n",
            "[I 2024-02-09 09:30:53,089] Trial 6 finished with value: 0.7607584751479176 and parameters: {'boosting_type': 'goss', 'objective': 'cross_entropy', 'lambda_l1': 0.007539620148108593, 'lambda_l2': 2.982407301185468e-08, 'num_leaves': 2, 'feature_fraction': 0.781659453143676, 'bagging_freq': 5, 'min_child_samples': 100, 'learning_rate': 0.17261977031371714, 'max_depth': 10, 'min_data_in_leaf': 65, 'min_split_gain': 0.03728406225240255, 'subsample': 0.5593445886707478, 'subsample_freq': 9}. Best is trial 2 with value: 0.7838222429938563.\n",
            "[I 2024-02-09 09:30:53,369] Trial 7 finished with value: 0.7505887973081105 and parameters: {'boosting_type': 'dart', 'bagging_fraction': 0.8014142447912148, 'objective': 'cross_entropy', 'lambda_l1': 1.131344802209951e-07, 'lambda_l2': 7.614722376824124, 'num_leaves': 238, 'feature_fraction': 0.6532246447977113, 'bagging_freq': 4, 'min_child_samples': 97, 'learning_rate': 0.07133985110580113, 'max_depth': 5, 'min_data_in_leaf': 73, 'min_split_gain': 0.7220067886394951, 'subsample': 0.6730245649228066, 'subsample_freq': 7}. Best is trial 2 with value: 0.7838222429938563.\n",
            "[I 2024-02-09 09:30:53,677] Trial 8 finished with value: 0.7755603166139524 and parameters: {'boosting_type': 'dart', 'bagging_fraction': 0.4735062759994648, 'objective': 'cross_entropy', 'lambda_l1': 1.1536088377608662, 'lambda_l2': 0.24604406095012726, 'num_leaves': 189, 'feature_fraction': 0.42734070177452016, 'bagging_freq': 2, 'min_child_samples': 90, 'learning_rate': 0.28632529977085625, 'max_depth': 7, 'min_data_in_leaf': 34, 'min_split_gain': 0.09634058660564726, 'subsample': 0.47536227513816925, 'subsample_freq': 9}. Best is trial 2 with value: 0.7838222429938563.\n",
            "[I 2024-02-09 09:30:53,871] Trial 9 finished with value: 0.7674663210438066 and parameters: {'boosting_type': 'gbdt', 'bagging_fraction': 0.4207972999452446, 'objective': 'cross_entropy', 'lambda_l1': 1.928293007317012e-06, 'lambda_l2': 1.6281268146690565e-06, 'num_leaves': 183, 'feature_fraction': 0.8836853271201357, 'bagging_freq': 4, 'min_child_samples': 96, 'learning_rate': 0.18797617627004132, 'max_depth': 5, 'min_data_in_leaf': 28, 'min_split_gain': 0.7680690167808556, 'subsample': 0.88719486288525, 'subsample_freq': 3}. Best is trial 2 with value: 0.7838222429938563.\n",
            "[I 2024-02-09 09:30:54,247] Trial 10 finished with value: 0.7861923328400963 and parameters: {'boosting_type': 'dart', 'bagging_fraction': 0.591010365321485, 'objective': 'binary', 'lambda_l1': 0.003230283460568226, 'lambda_l2': 1.8805128462972112e-05, 'num_leaves': 141, 'feature_fraction': 0.56944474854999, 'bagging_freq': 1, 'min_child_samples': 6, 'learning_rate': 0.07991627344123785, 'max_depth': 8, 'min_data_in_leaf': 15, 'min_split_gain': 0.9865436691089651, 'subsample': 0.7693783094760873, 'subsample_freq': 1}. Best is trial 10 with value: 0.7861923328400963.\n",
            "[I 2024-02-09 09:30:54,647] Trial 11 finished with value: 0.7869205891863301 and parameters: {'boosting_type': 'dart', 'bagging_fraction': 0.5831977749398474, 'objective': 'binary', 'lambda_l1': 0.0011366837945893334, 'lambda_l2': 1.3517319234613402e-05, 'num_leaves': 141, 'feature_fraction': 0.5659011319978383, 'bagging_freq': 1, 'min_child_samples': 7, 'learning_rate': 0.0777231461288007, 'max_depth': 8, 'min_data_in_leaf': 11, 'min_split_gain': 0.9695181566482062, 'subsample': 0.8018662532370192, 'subsample_freq': 1}. Best is trial 11 with value: 0.7869205891863301.\n",
            "[I 2024-02-09 09:30:55,071] Trial 12 finished with value: 0.7832168854826265 and parameters: {'boosting_type': 'dart', 'bagging_fraction': 0.5741472283968762, 'objective': 'binary', 'lambda_l1': 0.0037049185237285607, 'lambda_l2': 1.530020638482035e-06, 'num_leaves': 137, 'feature_fraction': 0.5839508791428784, 'bagging_freq': 1, 'min_child_samples': 6, 'learning_rate': 0.06653025942433907, 'max_depth': 8, 'min_data_in_leaf': 11, 'min_split_gain': 0.9951048769358287, 'subsample': 0.8162786186598112, 'subsample_freq': 1}. Best is trial 11 with value: 0.7869205891863301.\n",
            "[I 2024-02-09 09:30:55,474] Trial 13 finished with value: 0.7587082309919919 and parameters: {'boosting_type': 'dart', 'bagging_fraction': 0.670244887144068, 'objective': 'binary', 'lambda_l1': 0.38692525996857485, 'lambda_l2': 1.6046423276451043e-08, 'num_leaves': 87, 'feature_fraction': 0.5725982945450758, 'bagging_freq': 2, 'min_child_samples': 40, 'learning_rate': 0.015414418344535857, 'max_depth': 8, 'min_data_in_leaf': 11, 'min_split_gain': 0.9831100971021636, 'subsample': 0.7784476401786969, 'subsample_freq': 3}. Best is trial 11 with value: 0.7869205891863301.\n",
            "[I 2024-02-09 09:30:55,896] Trial 14 finished with value: 0.781672414556133 and parameters: {'boosting_type': 'dart', 'bagging_fraction': 0.5278743976387986, 'objective': 'binary', 'lambda_l1': 0.00031379592359352985, 'lambda_l2': 2.4465247378068856e-05, 'num_leaves': 142, 'feature_fraction': 0.7928553292208046, 'bagging_freq': 1, 'min_child_samples': 60, 'learning_rate': 0.10740345777927633, 'max_depth': 8, 'min_data_in_leaf': 21, 'min_split_gain': 0.7990762287455061, 'subsample': 0.7660053838391762, 'subsample_freq': 3}. Best is trial 11 with value: 0.7869205891863301.\n",
            "[I 2024-02-09 09:30:56,315] Trial 15 finished with value: 0.7973256164214402 and parameters: {'boosting_type': 'dart', 'bagging_fraction': 0.7611857916433236, 'objective': 'binary', 'lambda_l1': 0.0351757259649963, 'lambda_l2': 8.278006191545243e-06, 'num_leaves': 67, 'feature_fraction': 0.7171885195547658, 'bagging_freq': 2, 'min_child_samples': 9, 'learning_rate': 0.1105849924909661, 'max_depth': 9, 'min_data_in_leaf': 18, 'min_split_gain': 0.6054047698435283, 'subsample': 0.8378307259058326, 'subsample_freq': 2}. Best is trial 15 with value: 0.7973256164214402.\n",
            "[I 2024-02-09 09:30:56,660] Trial 16 finished with value: 0.7892864765241274 and parameters: {'boosting_type': 'goss', 'objective': 'binary', 'lambda_l1': 0.07210286995111281, 'lambda_l2': 1.3179206172548163e-07, 'num_leaves': 45, 'feature_fraction': 0.7209743367109768, 'bagging_freq': 2, 'min_child_samples': 69, 'learning_rate': 0.12145110927013644, 'max_depth': 9, 'min_data_in_leaf': 25, 'min_split_gain': 0.6152722424320275, 'subsample': 0.9923988593986062, 'subsample_freq': 4}. Best is trial 15 with value: 0.7973256164214402.\n",
            "[I 2024-02-09 09:30:56,950] Trial 17 finished with value: 0.7856560178136391 and parameters: {'boosting_type': 'goss', 'objective': 'binary', 'lambda_l1': 0.07076632299681274, 'lambda_l2': 1.0479583290642635e-07, 'num_leaves': 35, 'feature_fraction': 0.9958006621483155, 'bagging_freq': 3, 'min_child_samples': 74, 'learning_rate': 0.12062810084570683, 'max_depth': 9, 'min_data_in_leaf': 27, 'min_split_gain': 0.5765142270196133, 'subsample': 0.994871724419078, 'subsample_freq': 4}. Best is trial 15 with value: 0.7973256164214402.\n",
            "[I 2024-02-09 09:30:57,226] Trial 18 finished with value: 0.7685296449049893 and parameters: {'boosting_type': 'goss', 'objective': 'binary', 'lambda_l1': 5.101243501360726, 'lambda_l2': 2.231184007407868e-07, 'num_leaves': 61, 'feature_fraction': 0.7399534752565148, 'bagging_freq': 2, 'min_child_samples': 69, 'learning_rate': 0.02722400141149864, 'max_depth': 9, 'min_data_in_leaf': 48, 'min_split_gain': 0.5364646994346851, 'subsample': 0.985218844849737, 'subsample_freq': 5}. Best is trial 15 with value: 0.7973256164214402.\n",
            "[I 2024-02-09 09:30:57,582] Trial 19 finished with value: 0.788197821619488 and parameters: {'boosting_type': 'goss', 'objective': 'binary', 'lambda_l1': 0.07233468384891575, 'lambda_l2': 6.765768287906967e-07, 'num_leaves': 11, 'feature_fraction': 0.8153056101677869, 'bagging_freq': 2, 'min_child_samples': 41, 'learning_rate': 0.13473415849452847, 'max_depth': 9, 'min_data_in_leaf': 24, 'min_split_gain': 0.657640850163343, 'subsample': 0.9151607106873959, 'subsample_freq': 4}. Best is trial 15 with value: 0.7973256164214402.\n",
            "[I 2024-02-09 09:30:57,913] Trial 20 finished with value: 0.7696551855206721 and parameters: {'boosting_type': 'goss', 'objective': 'binary', 'lambda_l1': 0.041466361163603346, 'lambda_l2': 1.1742188356695774e-08, 'num_leaves': 76, 'feature_fraction': 0.6612825571452313, 'bagging_freq': 5, 'min_child_samples': 75, 'learning_rate': 0.13556061657596358, 'max_depth': 6, 'min_data_in_leaf': 36, 'min_split_gain': 0.39375668122112, 'subsample': 0.9413284556361754, 'subsample_freq': 2}. Best is trial 15 with value: 0.7973256164214402.\n",
            "[I 2024-02-09 09:30:58,211] Trial 21 finished with value: 0.7912686864404057 and parameters: {'boosting_type': 'goss', 'objective': 'binary', 'lambda_l1': 0.04536351725386439, 'lambda_l2': 3.060285925428472e-07, 'num_leaves': 8, 'feature_fraction': 0.8373644523489789, 'bagging_freq': 2, 'min_child_samples': 35, 'learning_rate': 0.13754973923218583, 'max_depth': 9, 'min_data_in_leaf': 24, 'min_split_gain': 0.6454700706316984, 'subsample': 0.8660544081662881, 'subsample_freq': 5}. Best is trial 15 with value: 0.7973256164214402.\n",
            "[I 2024-02-09 09:30:58,493] Trial 22 finished with value: 0.7574310967065896 and parameters: {'boosting_type': 'goss', 'objective': 'binary', 'lambda_l1': 9.962550797449472, 'lambda_l2': 5.295503139670056e-06, 'num_leaves': 29, 'feature_fraction': 0.858108698214443, 'bagging_freq': 3, 'min_child_samples': 24, 'learning_rate': 0.09485886780716946, 'max_depth': 9, 'min_data_in_leaf': 21, 'min_split_gain': 0.6260765221847564, 'subsample': 0.8551149358433315, 'subsample_freq': 6}. Best is trial 15 with value: 0.7973256164214402.\n",
            "[I 2024-02-09 09:30:58,775] Trial 23 finished with value: 0.7700409151225349 and parameters: {'boosting_type': 'goss', 'objective': 'binary', 'lambda_l1': 0.0002648449919734334, 'lambda_l2': 2.055937095287005e-07, 'num_leaves': 28, 'feature_fraction': 0.7451351267698533, 'bagging_freq': 2, 'min_child_samples': 45, 'learning_rate': 0.04217211829968556, 'max_depth': 9, 'min_data_in_leaf': 32, 'min_split_gain': 0.45959474021783364, 'subsample': 0.8565527041302535, 'subsample_freq': 5}. Best is trial 15 with value: 0.7973256164214402.\n",
            "[I 2024-02-09 09:30:59,073] Trial 24 finished with value: 0.7860332799409544 and parameters: {'boosting_type': 'goss', 'objective': 'binary', 'lambda_l1': 0.41180959954883556, 'lambda_l2': 6.090034587306698e-08, 'num_leaves': 57, 'feature_fraction': 0.6858738123970648, 'bagging_freq': 3, 'min_child_samples': 30, 'learning_rate': 0.2102480641291319, 'max_depth': 7, 'min_data_in_leaf': 19, 'min_split_gain': 0.8263047472309792, 'subsample': 0.7005045549484271, 'subsample_freq': 4}. Best is trial 15 with value: 0.7973256164214402.\n",
            "[I 2024-02-09 09:30:59,353] Trial 25 finished with value: 0.7631391827968041 and parameters: {'boosting_type': 'goss', 'objective': 'binary', 'lambda_l1': 1.5323279431582527e-08, 'lambda_l2': 0.0001713678192769127, 'num_leaves': 107, 'feature_fraction': 0.8426071494563137, 'bagging_freq': 2, 'min_child_samples': 59, 'learning_rate': 0.14374557007024413, 'max_depth': 3, 'min_data_in_leaf': 43, 'min_split_gain': 0.6835810597294818, 'subsample': 0.954560281829295, 'subsample_freq': 7}. Best is trial 15 with value: 0.7973256164214402.\n",
            "[I 2024-02-09 09:30:59,629] Trial 26 finished with value: 0.7872448336805979 and parameters: {'boosting_type': 'goss', 'objective': 'binary', 'lambda_l1': 0.02023550061514823, 'lambda_l2': 4.1679509601824786e-06, 'num_leaves': 43, 'feature_fraction': 0.9376587955713293, 'bagging_freq': 3, 'min_child_samples': 15, 'learning_rate': 0.11123178415600811, 'max_depth': 9, 'min_data_in_leaf': 29, 'min_split_gain': 0.8806934051991622, 'subsample': 0.7146394171225134, 'subsample_freq': 2}. Best is trial 15 with value: 0.7973256164214402.\n",
            "[I 2024-02-09 09:30:59,874] Trial 27 finished with value: 0.7640868618343707 and parameters: {'boosting_type': 'goss', 'objective': 'binary', 'lambda_l1': 0.24382030783327666, 'lambda_l2': 2.7562176684290824e-07, 'num_leaves': 76, 'feature_fraction': 0.7494144280267201, 'bagging_freq': 2, 'min_child_samples': 67, 'learning_rate': 0.047854825153352626, 'max_depth': 10, 'min_data_in_leaf': 54, 'min_split_gain': 0.38325065613430054, 'subsample': 0.8519603712452201, 'subsample_freq': 2}. Best is trial 15 with value: 0.7973256164214402.\n",
            "[I 2024-02-09 09:31:00,193] Trial 28 finished with value: 0.7808574134390331 and parameters: {'boosting_type': 'gbdt', 'bagging_fraction': 0.9875990821956906, 'objective': 'binary', 'lambda_l1': 8.014596197006864e-05, 'lambda_l2': 6.551479887495803e-07, 'num_leaves': 17, 'feature_fraction': 0.6951411873584183, 'bagging_freq': 5, 'min_child_samples': 48, 'learning_rate': 0.15829943665171717, 'max_depth': 4, 'min_data_in_leaf': 41, 'min_split_gain': 0.5773596102530965, 'subsample': 0.95029281212355, 'subsample_freq': 5}. Best is trial 15 with value: 0.7973256164214402.\n",
            "[I 2024-02-09 09:31:00,485] Trial 29 finished with value: 0.7815716881913618 and parameters: {'boosting_type': 'goss', 'objective': 'binary', 'lambda_l1': 2.6570600142083785, 'lambda_l2': 0.00015146238176871475, 'num_leaves': 93, 'feature_fraction': 0.612032481037737, 'bagging_freq': 1, 'min_child_samples': 34, 'learning_rate': 0.10002682638072839, 'max_depth': 7, 'min_data_in_leaf': 17, 'min_split_gain': 0.49352456850979187, 'subsample': 0.8943365181462901, 'subsample_freq': 7}. Best is trial 15 with value: 0.7973256164214402.\n",
            "[I 2024-02-09 09:31:00,747] Trial 30 finished with value: 0.7719076854332313 and parameters: {'boosting_type': 'gbdt', 'bagging_fraction': 0.8322238257606529, 'objective': 'binary', 'lambda_l1': 0.01565828103097378, 'lambda_l2': 3.7884871916356817e-06, 'num_leaves': 64, 'feature_fraction': 0.7806589395264579, 'bagging_freq': 1, 'min_child_samples': 79, 'learning_rate': 0.25604093485974944, 'max_depth': 6, 'min_data_in_leaf': 67, 'min_split_gain': 0.613990560051645, 'subsample': 0.917513301948409, 'subsample_freq': 6}. Best is trial 15 with value: 0.7973256164214402.\n",
            "[I 2024-02-09 09:31:00,997] Trial 31 finished with value: 0.7699847389162631 and parameters: {'boosting_type': 'goss', 'objective': 'binary', 'lambda_l1': 0.08090313983500143, 'lambda_l2': 4.3562468715453517e-07, 'num_leaves': 2, 'feature_fraction': 0.8334788112758174, 'bagging_freq': 2, 'min_child_samples': 38, 'learning_rate': 0.1313892787861022, 'max_depth': 9, 'min_data_in_leaf': 24, 'min_split_gain': 0.6766660537536315, 'subsample': 0.9126995581225007, 'subsample_freq': 4}. Best is trial 15 with value: 0.7973256164214402.\n",
            "[I 2024-02-09 09:31:01,207] Trial 32 finished with value: 0.7654407030520025 and parameters: {'boosting_type': 'goss', 'objective': 'binary', 'lambda_l1': 0.15469087385610272, 'lambda_l2': 6.055362992011465e-08, 'num_leaves': 21, 'feature_fraction': 0.8199870202706628, 'bagging_freq': 2, 'min_child_samples': 26, 'learning_rate': 0.12575579297138104, 'max_depth': 9, 'min_data_in_leaf': 96, 'min_split_gain': 0.734253100932395, 'subsample': 0.9805332423714929, 'subsample_freq': 4}. Best is trial 15 with value: 0.7973256164214402.\n",
            "[I 2024-02-09 09:31:01,498] Trial 33 finished with value: 0.7921145327203203 and parameters: {'boosting_type': 'goss', 'objective': 'binary', 'lambda_l1': 0.001057973138016252, 'lambda_l2': 6.654584711869929e-07, 'num_leaves': 13, 'feature_fraction': 0.9075200467068595, 'bagging_freq': 3, 'min_child_samples': 17, 'learning_rate': 0.1444681492317413, 'max_depth': 10, 'min_data_in_leaf': 22, 'min_split_gain': 0.6645565180892147, 'subsample': 0.8219783627745887, 'subsample_freq': 3}. Best is trial 15 with value: 0.7973256164214402.\n",
            "[I 2024-02-09 09:31:01,970] Trial 34 finished with value: 0.7992025227185287 and parameters: {'boosting_type': 'goss', 'objective': 'binary', 'lambda_l1': 0.0027703557610660222, 'lambda_l2': 6.56463985510972e-05, 'num_leaves': 42, 'feature_fraction': 0.9238301674742639, 'bagging_freq': 7, 'min_child_samples': 16, 'learning_rate': 0.19385839139180572, 'max_depth': 10, 'min_data_in_leaf': 16, 'min_split_gain': 0.8672415598205226, 'subsample': 0.7309944111825548, 'subsample_freq': 3}. Best is trial 34 with value: 0.7992025227185287.\n",
            "[I 2024-02-09 09:31:02,376] Trial 35 finished with value: 0.7918527101985868 and parameters: {'boosting_type': 'dart', 'bagging_fraction': 0.8809470203758667, 'objective': 'binary', 'lambda_l1': 0.0010741508074760871, 'lambda_l2': 0.0007452744967479675, 'num_leaves': 35, 'feature_fraction': 0.9106737085404846, 'bagging_freq': 7, 'min_child_samples': 16, 'learning_rate': 0.19294174221012395, 'max_depth': 10, 'min_data_in_leaf': 16, 'min_split_gain': 0.8489796339533369, 'subsample': 0.7293890688566119, 'subsample_freq': 3}. Best is trial 34 with value: 0.7992025227185287.\n",
            "[I 2024-02-09 09:31:02,713] Trial 36 finished with value: 0.7892248932687771 and parameters: {'boosting_type': 'dart', 'bagging_fraction': 0.8715309748238591, 'objective': 'binary', 'lambda_l1': 0.0006647799707129025, 'lambda_l2': 0.006541332519679445, 'num_leaves': 72, 'feature_fraction': 0.9541908423585306, 'bagging_freq': 7, 'min_child_samples': 16, 'learning_rate': 0.20284360492848535, 'max_depth': 10, 'min_data_in_leaf': 14, 'min_split_gain': 0.9024332200997456, 'subsample': 0.7348366209578577, 'subsample_freq': 2}. Best is trial 34 with value: 0.7992025227185287.\n",
            "[I 2024-02-09 09:31:03,055] Trial 37 finished with value: 0.7703887507682292 and parameters: {'boosting_type': 'dart', 'bagging_fraction': 0.8971218677586532, 'objective': 'binary', 'lambda_l1': 6.702216015585834e-05, 'lambda_l2': 0.0007919835583761262, 'num_leaves': 40, 'feature_fraction': 0.8971262266787907, 'bagging_freq': 7, 'min_child_samples': 21, 'learning_rate': 0.24546723551635297, 'max_depth': 10, 'min_data_in_leaf': 81, 'min_split_gain': 0.8603476355085683, 'subsample': 0.6569416144481769, 'subsample_freq': 3}. Best is trial 34 with value: 0.7992025227185287.\n",
            "[I 2024-02-09 09:31:03,426] Trial 38 finished with value: 0.7795353542491554 and parameters: {'boosting_type': 'dart', 'bagging_fraction': 0.7463994843651072, 'objective': 'cross_entropy', 'lambda_l1': 0.0023047302639877467, 'lambda_l2': 6.899903994635385e-05, 'num_leaves': 111, 'feature_fraction': 0.9823019885581292, 'bagging_freq': 6, 'min_child_samples': 12, 'learning_rate': 0.17989476524875384, 'max_depth': 10, 'min_data_in_leaf': 17, 'min_split_gain': 0.9169775634547114, 'subsample': 0.5950845352820253, 'subsample_freq': 2}. Best is trial 34 with value: 0.7992025227185287.\n",
            "[I 2024-02-09 09:31:03,784] Trial 39 finished with value: 0.7798957528075612 and parameters: {'boosting_type': 'dart', 'bagging_fraction': 0.9933679339302791, 'objective': 'binary', 'lambda_l1': 0.010653219130069896, 'lambda_l2': 0.08391188907986395, 'num_leaves': 51, 'feature_fraction': 0.9092313287581748, 'bagging_freq': 6, 'min_child_samples': 19, 'learning_rate': 0.19922483847378733, 'max_depth': 10, 'min_data_in_leaf': 31, 'min_split_gain': 0.7590571465849643, 'subsample': 0.7413682664295057, 'subsample_freq': 3}. Best is trial 34 with value: 0.7992025227185287.\n",
            "[I 2024-02-09 09:31:04,221] Trial 40 finished with value: 0.784995492341263 and parameters: {'boosting_type': 'dart', 'bagging_fraction': 0.7713962149724468, 'objective': 'cross_entropy', 'lambda_l1': 7.277525995125478e-06, 'lambda_l2': 0.0004418161219514856, 'num_leaves': 23, 'feature_fraction': 0.9639836437808239, 'bagging_freq': 6, 'min_child_samples': 12, 'learning_rate': 0.2275714670375436, 'max_depth': 10, 'min_data_in_leaf': 41, 'min_split_gain': 0.8187847865998468, 'subsample': 0.8070853598625162, 'subsample_freq': 3}. Best is trial 34 with value: 0.7992025227185287.\n",
            "[I 2024-02-09 09:31:04,526] Trial 41 finished with value: 0.7828786593944533 and parameters: {'boosting_type': 'gbdt', 'bagging_fraction': 0.6908112703952687, 'objective': 'binary', 'lambda_l1': 0.0010842494520128408, 'lambda_l2': 0.0054284830689600915, 'num_leaves': 9, 'feature_fraction': 0.8818802548912813, 'bagging_freq': 7, 'min_child_samples': 28, 'learning_rate': 0.16117730118900644, 'max_depth': 10, 'min_data_in_leaf': 18, 'min_split_gain': 0.7069007936937465, 'subsample': 0.8376968034678184, 'subsample_freq': 2}. Best is trial 34 with value: 0.7992025227185287.\n",
            "[I 2024-02-09 09:31:04,810] Trial 42 finished with value: 0.8005775995414537 and parameters: {'boosting_type': 'goss', 'objective': 'binary', 'lambda_l1': 0.005040104903130572, 'lambda_l2': 6.029175337086737e-05, 'num_leaves': 37, 'feature_fraction': 0.9325664333039442, 'bagging_freq': 4, 'min_child_samples': 10, 'learning_rate': 0.17117875673682223, 'max_depth': 10, 'min_data_in_leaf': 23, 'min_split_gain': 0.7944257401138385, 'subsample': 0.7432160031104135, 'subsample_freq': 5}. Best is trial 42 with value: 0.8005775995414537.\n",
            "[I 2024-02-09 09:31:05,144] Trial 43 finished with value: 0.7929011156009248 and parameters: {'boosting_type': 'dart', 'bagging_fraction': 0.84561938693785, 'objective': 'binary', 'lambda_l1': 8.979542067956439e-05, 'lambda_l2': 5.248278807201283e-05, 'num_leaves': 37, 'feature_fraction': 0.9248796600916017, 'bagging_freq': 5, 'min_child_samples': 11, 'learning_rate': 0.21977150271984933, 'max_depth': 10, 'min_data_in_leaf': 10, 'min_split_gain': 0.9248285984076294, 'subsample': 0.738870708971467, 'subsample_freq': 1}. Best is trial 42 with value: 0.8005775995414537.\n",
            "[I 2024-02-09 09:31:05,462] Trial 44 finished with value: 0.7964342117379005 and parameters: {'boosting_type': 'goss', 'objective': 'binary', 'lambda_l1': 8.176649388176414e-05, 'lambda_l2': 4.0911626825692746e-05, 'num_leaves': 49, 'feature_fraction': 0.9351544413290913, 'bagging_freq': 5, 'min_child_samples': 11, 'learning_rate': 0.21736958806161694, 'max_depth': 10, 'min_data_in_leaf': 13, 'min_split_gain': 0.9319880512009422, 'subsample': 0.6301214157724575, 'subsample_freq': 1}. Best is trial 42 with value: 0.8005775995414537.\n",
            "[I 2024-02-09 09:31:05,864] Trial 45 finished with value: 0.7905638160275643 and parameters: {'boosting_type': 'dart', 'bagging_fraction': 0.8324986196663481, 'objective': 'cross_entropy', 'lambda_l1': 1.948898031050346e-05, 'lambda_l2': 4.2482166884451405e-05, 'num_leaves': 83, 'feature_fraction': 0.9346457214092349, 'bagging_freq': 5, 'min_child_samples': 10, 'learning_rate': 0.21962901489344208, 'max_depth': 10, 'min_data_in_leaf': 10, 'min_split_gain': 0.9341614601901405, 'subsample': 0.6121879954449437, 'subsample_freq': 1}. Best is trial 42 with value: 0.8005775995414537.\n",
            "[I 2024-02-09 09:31:06,153] Trial 46 finished with value: 0.7922003406262469 and parameters: {'boosting_type': 'gbdt', 'bagging_fraction': 0.9337023847424452, 'objective': 'binary', 'lambda_l1': 9.218442195026772e-05, 'lambda_l2': 1.0091786923097968e-05, 'num_leaves': 53, 'feature_fraction': 0.9772845086008559, 'bagging_freq': 4, 'min_child_samples': 5, 'learning_rate': 0.24891353630856683, 'max_depth': 10, 'min_data_in_leaf': 14, 'min_split_gain': 0.942747261926688, 'subsample': 0.6841297570054308, 'subsample_freq': 1}. Best is trial 42 with value: 0.8005775995414537.\n",
            "[I 2024-02-09 09:31:06,704] Trial 47 finished with value: 0.809347146113099 and parameters: {'boosting_type': 'dart', 'bagging_fraction': 0.7109382757674573, 'objective': 'binary', 'lambda_l1': 4.280716944705774e-06, 'lambda_l2': 7.633396087193554e-05, 'num_leaves': 163, 'feature_fraction': 0.8704422862186209, 'bagging_freq': 5, 'min_child_samples': 9, 'learning_rate': 0.16880114191534762, 'max_depth': 8, 'min_data_in_leaf': 10, 'min_split_gain': 0.20866288443090886, 'subsample': 0.5445229534034256, 'subsample_freq': 1}. Best is trial 47 with value: 0.809347146113099.\n",
            "[I 2024-02-09 09:31:07,088] Trial 48 finished with value: 0.7976794926153628 and parameters: {'boosting_type': 'goss', 'objective': 'binary', 'lambda_l1': 2.8662435048703844e-06, 'lambda_l2': 0.0002629384664794347, 'num_leaves': 167, 'feature_fraction': 0.9495026126344231, 'bagging_freq': 4, 'min_child_samples': 22, 'learning_rate': 0.17835558131895698, 'max_depth': 8, 'min_data_in_leaf': 14, 'min_split_gain': 0.00701538426041956, 'subsample': 0.512028359056071, 'subsample_freq': 2}. Best is trial 47 with value: 0.809347146113099.\n",
            "[I 2024-02-09 09:31:07,497] Trial 49 finished with value: 0.796277211019102 and parameters: {'boosting_type': 'dart', 'bagging_fraction': 0.6664485149334843, 'objective': 'cross_entropy', 'lambda_l1': 1.4747008728932865e-07, 'lambda_l2': 0.002586284206032772, 'num_leaves': 154, 'feature_fraction': 0.8687582267816905, 'bagging_freq': 4, 'min_child_samples': 20, 'learning_rate': 0.1706355574598352, 'max_depth': 8, 'min_data_in_leaf': 28, 'min_split_gain': 0.19597702200178346, 'subsample': 0.47759735080433624, 'subsample_freq': 2}. Best is trial 47 with value: 0.809347146113099.\n",
            "[I 2024-02-09 09:31:07,859] Trial 50 finished with value: 0.7961658668516842 and parameters: {'boosting_type': 'goss', 'objective': 'binary', 'lambda_l1': 1.573932109705077e-06, 'lambda_l2': 0.0002792107714123953, 'num_leaves': 205, 'feature_fraction': 0.9988379094520066, 'bagging_freq': 4, 'min_child_samples': 24, 'learning_rate': 0.17023260166459853, 'max_depth': 8, 'min_data_in_leaf': 19, 'min_split_gain': 0.0025089921899018597, 'subsample': 0.5285357713548399, 'subsample_freq': 8}. Best is trial 47 with value: 0.809347146113099.\n",
            "[I 2024-02-09 09:31:08,201] Trial 51 finished with value: 0.7905996934934819 and parameters: {'boosting_type': 'goss', 'objective': 'binary', 'lambda_l1': 4.284180239526087e-06, 'lambda_l2': 9.424307983659804e-05, 'num_leaves': 177, 'feature_fraction': 0.9529151979136229, 'bagging_freq': 5, 'min_child_samples': 8, 'learning_rate': 0.18368811838932692, 'max_depth': 8, 'min_data_in_leaf': 14, 'min_split_gain': 0.2817142890710577, 'subsample': 0.4425463834853975, 'subsample_freq': 1}. Best is trial 47 with value: 0.809347146113099.\n",
            "[I 2024-02-09 09:31:08,576] Trial 52 finished with value: 0.7980601185339367 and parameters: {'boosting_type': 'goss', 'objective': 'binary', 'lambda_l1': 5.515729097649104e-07, 'lambda_l2': 2.041557248032354e-05, 'num_leaves': 165, 'feature_fraction': 0.9399283444532407, 'bagging_freq': 4, 'min_child_samples': 14, 'learning_rate': 0.15048914325434748, 'max_depth': 7, 'min_data_in_leaf': 13, 'min_split_gain': 0.12282531410752444, 'subsample': 0.5809176131691807, 'subsample_freq': 1}. Best is trial 47 with value: 0.809347146113099.\n",
            "[I 2024-02-09 09:31:08,928] Trial 53 finished with value: 0.7857661485178975 and parameters: {'boosting_type': 'goss', 'objective': 'binary', 'lambda_l1': 5.093714133589705e-07, 'lambda_l2': 1.470959985557255e-05, 'num_leaves': 161, 'feature_fraction': 0.5057423371613357, 'bagging_freq': 4, 'min_child_samples': 14, 'learning_rate': 0.15364129515627079, 'max_depth': 7, 'min_data_in_leaf': 20, 'min_split_gain': 0.14050734083922567, 'subsample': 0.5126059591960981, 'subsample_freq': 2}. Best is trial 47 with value: 0.809347146113099.\n",
            "[I 2024-02-09 09:31:09,302] Trial 54 finished with value: 0.8055533338472707 and parameters: {'boosting_type': 'goss', 'objective': 'binary', 'lambda_l1': 2.180489679964729e-07, 'lambda_l2': 0.00030584339357568775, 'num_leaves': 193, 'feature_fraction': 0.4464053948431134, 'bagging_freq': 6, 'min_child_samples': 8, 'learning_rate': 0.15337550389955446, 'max_depth': 8, 'min_data_in_leaf': 10, 'min_split_gain': 0.05441467355529021, 'subsample': 0.5634526566479785, 'subsample_freq': 1}. Best is trial 47 with value: 0.809347146113099.\n",
            "[I 2024-02-09 09:31:09,686] Trial 55 finished with value: 0.7917319616916819 and parameters: {'boosting_type': 'goss', 'objective': 'binary', 'lambda_l1': 1.7660552123138962e-07, 'lambda_l2': 0.001730918198648189, 'num_leaves': 196, 'feature_fraction': 0.46899558327125107, 'bagging_freq': 6, 'min_child_samples': 30, 'learning_rate': 0.16720062221601467, 'max_depth': 7, 'min_data_in_leaf': 10, 'min_split_gain': 0.0746932180986292, 'subsample': 0.5668100008883679, 'subsample_freq': 1}. Best is trial 47 with value: 0.809347146113099.\n",
            "[I 2024-02-09 09:31:10,007] Trial 56 finished with value: 0.7924486633703297 and parameters: {'boosting_type': 'goss', 'objective': 'binary', 'lambda_l1': 1.2831147456983323e-08, 'lambda_l2': 0.00026530219806006117, 'num_leaves': 224, 'feature_fraction': 0.4271057978849291, 'bagging_freq': 4, 'min_child_samples': 21, 'learning_rate': 0.15149374315754913, 'max_depth': 5, 'min_data_in_leaf': 14, 'min_split_gain': 0.07102097021297515, 'subsample': 0.5583586036710725, 'subsample_freq': 1}. Best is trial 47 with value: 0.809347146113099.\n",
            "[I 2024-02-09 09:31:10,312] Trial 57 finished with value: 0.7785909319325685 and parameters: {'boosting_type': 'goss', 'objective': 'binary', 'lambda_l1': 9.195305673595539e-07, 'lambda_l2': 2.5910183330110324e-05, 'num_leaves': 158, 'feature_fraction': 0.8865046692550145, 'bagging_freq': 4, 'min_child_samples': 5, 'learning_rate': 0.18888627963051025, 'max_depth': 6, 'min_data_in_leaf': 25, 'min_split_gain': 0.1508395085101913, 'subsample': 0.5792089231871065, 'subsample_freq': 1}. Best is trial 47 with value: 0.809347146113099.\n",
            "[I 2024-02-09 09:31:10,649] Trial 58 finished with value: 0.80926980568172 and parameters: {'boosting_type': 'goss', 'objective': 'binary', 'lambda_l1': 2.800009150534962e-07, 'lambda_l2': 0.00010310382960472996, 'num_leaves': 124, 'feature_fraction': 0.8643385313120165, 'bagging_freq': 6, 'min_child_samples': 8, 'learning_rate': 0.17598622704720485, 'max_depth': 8, 'min_data_in_leaf': 22, 'min_split_gain': 0.02511232917102102, 'subsample': 0.4388576833572033, 'subsample_freq': 2}. Best is trial 47 with value: 0.809347146113099.\n",
            "[I 2024-02-09 09:31:10,940] Trial 59 finished with value: 0.783193499549234 and parameters: {'boosting_type': 'goss', 'objective': 'binary', 'lambda_l1': 5.366099622291055e-07, 'lambda_l2': 1.7770932282607245e-06, 'num_leaves': 221, 'feature_fraction': 0.8659093782751137, 'bagging_freq': 6, 'min_child_samples': 9, 'learning_rate': 0.2038052467309516, 'max_depth': 7, 'min_data_in_leaf': 38, 'min_split_gain': 0.24055305636149094, 'subsample': 0.45064749882627136, 'subsample_freq': 2}. Best is trial 47 with value: 0.809347146113099.\n",
            "[I 2024-02-09 09:31:11,245] Trial 60 finished with value: 0.7872152019809429 and parameters: {'boosting_type': 'goss', 'objective': 'cross_entropy', 'lambda_l1': 4.5427338891072654e-08, 'lambda_l2': 0.02675655714509989, 'num_leaves': 130, 'feature_fraction': 0.7950151095688366, 'bagging_freq': 7, 'min_child_samples': 5, 'learning_rate': 0.16449653973315712, 'max_depth': 8, 'min_data_in_leaf': 31, 'min_split_gain': 0.10833117246497587, 'subsample': 0.6531387074098192, 'subsample_freq': 1}. Best is trial 47 with value: 0.809347146113099.\n",
            "[I 2024-02-09 09:31:11,624] Trial 61 finished with value: 0.7915411267647858 and parameters: {'boosting_type': 'goss', 'objective': 'binary', 'lambda_l1': 5.908933374997649e-08, 'lambda_l2': 0.0001300416912829411, 'num_leaves': 168, 'feature_fraction': 0.9710728960475163, 'bagging_freq': 6, 'min_child_samples': 13, 'learning_rate': 0.17738692658073343, 'max_depth': 8, 'min_data_in_leaf': 21, 'min_split_gain': 0.026848068004089704, 'subsample': 0.40610536202017355, 'subsample_freq': 2}. Best is trial 47 with value: 0.809347146113099.\n",
            "[I 2024-02-09 09:31:12,050] Trial 62 finished with value: 0.7984332852230881 and parameters: {'boosting_type': 'goss', 'objective': 'binary', 'lambda_l1': 3.0323593639674264e-06, 'lambda_l2': 0.000456949827826865, 'num_leaves': 191, 'feature_fraction': 0.9448697592231887, 'bagging_freq': 6, 'min_child_samples': 17, 'learning_rate': 0.1479267622200272, 'max_depth': 8, 'min_data_in_leaf': 12, 'min_split_gain': 0.03903822907377914, 'subsample': 0.5135644422351041, 'subsample_freq': 1}. Best is trial 47 with value: 0.809347146113099.\n",
            "[I 2024-02-09 09:31:12,437] Trial 63 finished with value: 0.7950061172819283 and parameters: {'boosting_type': 'goss', 'objective': 'binary', 'lambda_l1': 2.426311784920362e-07, 'lambda_l2': 0.0005234160654374819, 'num_leaves': 189, 'feature_fraction': 0.9204811993530803, 'bagging_freq': 6, 'min_child_samples': 18, 'learning_rate': 0.14672104638992384, 'max_depth': 7, 'min_data_in_leaf': 12, 'min_split_gain': 0.05049068390938273, 'subsample': 0.4344964097593045, 'subsample_freq': 1}. Best is trial 47 with value: 0.809347146113099.\n",
            "[I 2024-02-09 09:31:12,754] Trial 64 finished with value: 0.7871749524786413 and parameters: {'boosting_type': 'goss', 'objective': 'binary', 'lambda_l1': 1.1962059686349474e-05, 'lambda_l2': 5.4699558001037305, 'num_leaves': 250, 'feature_fraction': 0.853744015903756, 'bagging_freq': 5, 'min_child_samples': 8, 'learning_rate': 0.15304543755781375, 'max_depth': 8, 'min_data_in_leaf': 17, 'min_split_gain': 0.12611295297340752, 'subsample': 0.5485548917497871, 'subsample_freq': 1}. Best is trial 47 with value: 0.809347146113099.\n",
            "[I 2024-02-09 09:31:13,063] Trial 65 finished with value: 0.7920022516879629 and parameters: {'boosting_type': 'goss', 'objective': 'binary', 'lambda_l1': 7.813641647405412e-08, 'lambda_l2': 0.001247589394808999, 'num_leaves': 180, 'feature_fraction': 0.4617775912620623, 'bagging_freq': 6, 'min_child_samples': 14, 'learning_rate': 0.18791532776427128, 'max_depth': 9, 'min_data_in_leaf': 27, 'min_split_gain': 0.1789461311871407, 'subsample': 0.48766192398061525, 'subsample_freq': 1}. Best is trial 47 with value: 0.809347146113099.\n",
            "[I 2024-02-09 09:31:13,446] Trial 66 finished with value: 0.7901491863729515 and parameters: {'boosting_type': 'goss', 'objective': 'binary', 'lambda_l1': 0.004935939924527162, 'lambda_l2': 0.00010254475951010547, 'num_leaves': 152, 'feature_fraction': 0.5315844461342698, 'bagging_freq': 7, 'min_child_samples': 18, 'learning_rate': 0.11945566055215655, 'max_depth': 7, 'min_data_in_leaf': 10, 'min_split_gain': 0.21508403729771697, 'subsample': 0.4639352649572133, 'subsample_freq': 2}. Best is trial 47 with value: 0.809347146113099.\n",
            "[I 2024-02-09 09:31:13,752] Trial 67 finished with value: 0.7976351476748975 and parameters: {'boosting_type': 'goss', 'objective': 'binary', 'lambda_l1': 2.7705408835071264e-08, 'lambda_l2': 2.875077768244324e-05, 'num_leaves': 202, 'feature_fraction': 0.8737180895938945, 'bagging_freq': 5, 'min_child_samples': 25, 'learning_rate': 0.13772746314239553, 'max_depth': 8, 'min_data_in_leaf': 22, 'min_split_gain': 0.09809431262635432, 'subsample': 0.5058296328371795, 'subsample_freq': 1}. Best is trial 47 with value: 0.809347146113099.\n",
            "[I 2024-02-09 09:31:14,093] Trial 68 finished with value: 0.7942569019286212 and parameters: {'boosting_type': 'goss', 'objective': 'binary', 'lambda_l1': 2.523628463356612e-07, 'lambda_l2': 7.004413807705319e-06, 'num_leaves': 220, 'feature_fraction': 0.615132314111519, 'bagging_freq': 6, 'min_child_samples': 8, 'learning_rate': 0.16120187227809163, 'max_depth': 6, 'min_data_in_leaf': 16, 'min_split_gain': 0.04620615355249248, 'subsample': 0.7814746199380362, 'subsample_freq': 6}. Best is trial 47 with value: 0.809347146113099.\n",
            "[I 2024-02-09 09:31:14,417] Trial 69 finished with value: 0.7894623929921789 and parameters: {'boosting_type': 'gbdt', 'bagging_fraction': 0.7110775255198731, 'objective': 'binary', 'lambda_l1': 9.983037867764387e-07, 'lambda_l2': 2.8225170427381213e-06, 'num_leaves': 146, 'feature_fraction': 0.8151035323462791, 'bagging_freq': 6, 'min_child_samples': 14, 'learning_rate': 0.19919473891570152, 'max_depth': 9, 'min_data_in_leaf': 24, 'min_split_gain': 0.3417808310571873, 'subsample': 0.5962456928396755, 'subsample_freq': 8}. Best is trial 47 with value: 0.809347146113099.\n",
            "[I 2024-02-09 09:31:14,689] Trial 70 finished with value: 0.7704109232384619 and parameters: {'boosting_type': 'goss', 'objective': 'binary', 'lambda_l1': 2.5616133606982494e-06, 'lambda_l2': 0.0037600996830877073, 'num_leaves': 128, 'feature_fraction': 0.8970788055023735, 'bagging_freq': 5, 'min_child_samples': 30, 'learning_rate': 0.14328145953348953, 'max_depth': 7, 'min_data_in_leaf': 34, 'min_split_gain': 0.1208048331231196, 'subsample': 0.6970175238235752, 'subsample_freq': 10}. Best is trial 47 with value: 0.809347146113099.\n",
            "[I 2024-02-09 09:31:15,081] Trial 71 finished with value: 0.7867434592551191 and parameters: {'boosting_type': 'goss', 'objective': 'binary', 'lambda_l1': 4.07570146131049e-06, 'lambda_l2': 0.0002081796367247266, 'num_leaves': 191, 'feature_fraction': 0.9506561671027071, 'bagging_freq': 4, 'min_child_samples': 22, 'learning_rate': 0.1825718193264875, 'max_depth': 8, 'min_data_in_leaf': 13, 'min_split_gain': 0.005247972447319164, 'subsample': 0.5289273024820618, 'subsample_freq': 2}. Best is trial 47 with value: 0.809347146113099.\n",
            "[I 2024-02-09 09:31:15,420] Trial 72 finished with value: 0.7868420352917915 and parameters: {'boosting_type': 'goss', 'objective': 'binary', 'lambda_l1': 3.442503065533379e-07, 'lambda_l2': 0.0005045427790677953, 'num_leaves': 167, 'feature_fraction': 0.4075517592548596, 'bagging_freq': 4, 'min_child_samples': 16, 'learning_rate': 0.17498913344110975, 'max_depth': 8, 'min_data_in_leaf': 19, 'min_split_gain': 0.06848749288135975, 'subsample': 0.4233394028888656, 'subsample_freq': 2}. Best is trial 47 with value: 0.809347146113099.\n",
            "[I 2024-02-09 09:31:15,749] Trial 73 finished with value: 0.7881000842999994 and parameters: {'boosting_type': 'goss', 'objective': 'binary', 'lambda_l1': 2.364076175035858e-06, 'lambda_l2': 7.518719594116711e-05, 'num_leaves': 176, 'feature_fraction': 0.9447999515888973, 'bagging_freq': 4, 'min_child_samples': 10, 'learning_rate': 0.17274467608278818, 'max_depth': 5, 'min_data_in_leaf': 15, 'min_split_gain': 0.02370078267542146, 'subsample': 0.5077320634350329, 'subsample_freq': 3}. Best is trial 47 with value: 0.809347146113099.\n",
            "[I 2024-02-09 09:31:16,016] Trial 74 finished with value: 0.7584520207373716 and parameters: {'boosting_type': 'goss', 'objective': 'binary', 'lambda_l1': 3.9971557066363525e-05, 'lambda_l2': 1.9397031807341277e-05, 'num_leaves': 212, 'feature_fraction': 0.98377397121325, 'bagging_freq': 7, 'min_child_samples': 7, 'learning_rate': 0.19436951519990597, 'max_depth': 9, 'min_data_in_leaf': 60, 'min_split_gain': 0.048117856967644985, 'subsample': 0.5470003706853055, 'subsample_freq': 2}. Best is trial 47 with value: 0.809347146113099.\n",
            "[I 2024-02-09 09:31:16,383] Trial 75 finished with value: 0.7849002800958493 and parameters: {'boosting_type': 'goss', 'objective': 'binary', 'lambda_l1': 5.892215176685389e-06, 'lambda_l2': 0.00017410870650366036, 'num_leaves': 172, 'feature_fraction': 0.9239442123758608, 'bagging_freq': 5, 'min_child_samples': 19, 'learning_rate': 0.15621954234115087, 'max_depth': 8, 'min_data_in_leaf': 22, 'min_split_gain': 0.17308809784502377, 'subsample': 0.46288763979348446, 'subsample_freq': 3}. Best is trial 47 with value: 0.809347146113099.\n",
            "[I 2024-02-09 09:31:16,845] Trial 76 finished with value: 0.788302643422423 and parameters: {'boosting_type': 'goss', 'objective': 'binary', 'lambda_l1': 1.4147027081812421e-05, 'lambda_l2': 0.0003741647892020478, 'num_leaves': 186, 'feature_fraction': 0.8950348189011478, 'bagging_freq': 3, 'min_child_samples': 87, 'learning_rate': 0.12916103710808002, 'max_depth': 7, 'min_data_in_leaf': 13, 'min_split_gain': 0.09825213018510637, 'subsample': 0.5221881453530253, 'subsample_freq': 1}. Best is trial 47 with value: 0.809347146113099.\n",
            "[I 2024-02-09 09:31:17,187] Trial 77 finished with value: 0.8014309050507906 and parameters: {'boosting_type': 'goss', 'objective': 'binary', 'lambda_l1': 0.002338676619075656, 'lambda_l2': 0.001241871995099016, 'num_leaves': 195, 'feature_fraction': 0.9596425313328144, 'bagging_freq': 6, 'min_child_samples': 13, 'learning_rate': 0.21280689149593585, 'max_depth': 8, 'min_data_in_leaf': 16, 'min_split_gain': 0.24077018410529205, 'subsample': 0.48818889403772175, 'subsample_freq': 2}. Best is trial 47 with value: 0.809347146113099.\n",
            "[I 2024-02-09 09:31:17,463] Trial 78 finished with value: 0.7795428134785778 and parameters: {'boosting_type': 'goss', 'objective': 'binary', 'lambda_l1': 0.0023224472534344575, 'lambda_l2': 0.015016362952137081, 'num_leaves': 184, 'feature_fraction': 0.9662186731053467, 'bagging_freq': 6, 'min_child_samples': 12, 'learning_rate': 0.2341063017408273, 'max_depth': 9, 'min_data_in_leaf': 49, 'min_split_gain': 0.24073286236364022, 'subsample': 0.7649309427602736, 'subsample_freq': 2}. Best is trial 47 with value: 0.809347146113099.\n",
            "[I 2024-02-09 09:31:17,854] Trial 79 finished with value: 0.7984439030257346 and parameters: {'boosting_type': 'goss', 'objective': 'binary', 'lambda_l1': 0.0002698552768210569, 'lambda_l2': 0.0011073809536506552, 'num_leaves': 234, 'feature_fraction': 0.6685847214445969, 'bagging_freq': 6, 'min_child_samples': 15, 'learning_rate': 0.11389909032916119, 'max_depth': 8, 'min_data_in_leaf': 17, 'min_split_gain': 0.29191062350819863, 'subsample': 0.48460442676847415, 'subsample_freq': 5}. Best is trial 47 with value: 0.809347146113099.\n",
            "[I 2024-02-09 09:31:18,186] Trial 80 finished with value: 0.7894134707972953 and parameters: {'boosting_type': 'gbdt', 'bagging_fraction': 0.6352601801647362, 'objective': 'cross_entropy', 'lambda_l1': 0.0006539724224532405, 'lambda_l2': 0.0013627457001622858, 'num_leaves': 232, 'feature_fraction': 0.7628757960937168, 'bagging_freq': 6, 'min_child_samples': 27, 'learning_rate': 0.20517872167913848, 'max_depth': 9, 'min_data_in_leaf': 17, 'min_split_gain': 0.28790142130531265, 'subsample': 0.4756473379562052, 'subsample_freq': 5}. Best is trial 47 with value: 0.809347146113099.\n",
            "[I 2024-02-09 09:31:18,678] Trial 81 finished with value: 0.7880080306278102 and parameters: {'boosting_type': 'goss', 'objective': 'binary', 'lambda_l1': 0.00023223947072836988, 'lambda_l2': 0.0011464080687911761, 'num_leaves': 238, 'feature_fraction': 0.6469773942531317, 'bagging_freq': 6, 'min_child_samples': 16, 'learning_rate': 0.0877279233025107, 'max_depth': 8, 'min_data_in_leaf': 12, 'min_split_gain': 0.3495230101609912, 'subsample': 0.49358466626958397, 'subsample_freq': 5}. Best is trial 47 with value: 0.809347146113099.\n",
            "[I 2024-02-09 09:31:19,008] Trial 82 finished with value: 0.7871877206093869 and parameters: {'boosting_type': 'goss', 'objective': 'binary', 'lambda_l1': 0.010652542688485079, 'lambda_l2': 0.0027294202761069327, 'num_leaves': 197, 'feature_fraction': 0.5397594628297225, 'bagging_freq': 7, 'min_child_samples': 10, 'learning_rate': 0.1209637981243193, 'max_depth': 8, 'min_data_in_leaf': 19, 'min_split_gain': 0.20521713226684715, 'subsample': 0.5821734806757618, 'subsample_freq': 4}. Best is trial 47 with value: 0.809347146113099.\n",
            "[I 2024-02-09 09:31:19,345] Trial 83 finished with value: 0.7760194964270648 and parameters: {'boosting_type': 'goss', 'objective': 'binary', 'lambda_l1': 0.004226497249451823, 'lambda_l2': 0.0007120506481123824, 'num_leaves': 210, 'feature_fraction': 0.9175067449909067, 'bagging_freq': 6, 'min_child_samples': 13, 'learning_rate': 0.11287505523665844, 'max_depth': 8, 'min_data_in_leaf': 26, 'min_split_gain': 0.2651631671626693, 'subsample': 0.5424711985906262, 'subsample_freq': 6}. Best is trial 47 with value: 0.809347146113099.\n",
            "[I 2024-02-09 09:31:19,708] Trial 84 finished with value: 0.7902573719671451 and parameters: {'boosting_type': 'goss', 'objective': 'binary', 'lambda_l1': 9.42909797160533e-08, 'lambda_l2': 6.107250043586784e-05, 'num_leaves': 103, 'feature_fraction': 0.9877007207752079, 'bagging_freq': 7, 'min_child_samples': 5, 'learning_rate': 0.21221298708773362, 'max_depth': 7, 'min_data_in_leaf': 16, 'min_split_gain': 0.15115235074980227, 'subsample': 0.41546811545172513, 'subsample_freq': 1}. Best is trial 47 with value: 0.809347146113099.\n",
            "[I 2024-02-09 09:31:20,126] Trial 85 finished with value: 0.7969365230283187 and parameters: {'boosting_type': 'goss', 'objective': 'binary', 'lambda_l1': 0.00043693128982999133, 'lambda_l2': 0.008434968647106836, 'num_leaves': 252, 'feature_fraction': 0.9308938961440375, 'bagging_freq': 5, 'min_child_samples': 17, 'learning_rate': 0.16391624701855095, 'max_depth': 9, 'min_data_in_leaf': 11, 'min_split_gain': 0.3145127804135145, 'subsample': 0.7551251342138849, 'subsample_freq': 4}. Best is trial 47 with value: 0.809347146113099.\n",
            "[I 2024-02-09 09:31:20,444] Trial 86 finished with value: 0.8006286720644363 and parameters: {'boosting_type': 'goss', 'objective': 'binary', 'lambda_l1': 0.0001682167868210026, 'lambda_l2': 3.6322828939966414e-05, 'num_leaves': 212, 'feature_fraction': 0.9048265520062836, 'bagging_freq': 6, 'min_child_samples': 7, 'learning_rate': 0.140563700396201, 'max_depth': 8, 'min_data_in_leaf': 22, 'min_split_gain': 0.792343587229563, 'subsample': 0.7161877400206174, 'subsample_freq': 1}. Best is trial 47 with value: 0.809347146113099.\n",
            "[I 2024-02-09 09:31:20,830] Trial 87 finished with value: 0.7878514046549874 and parameters: {'boosting_type': 'dart', 'bagging_fraction': 0.5006978181132198, 'objective': 'binary', 'lambda_l1': 0.001519508896967803, 'lambda_l2': 3.605066867831917e-05, 'num_leaves': 215, 'feature_fraction': 0.8446696275489392, 'bagging_freq': 6, 'min_child_samples': 7, 'learning_rate': 0.13726632441542905, 'max_depth': 8, 'min_data_in_leaf': 23, 'min_split_gain': 0.7328050199173978, 'subsample': 0.49236677696930514, 'subsample_freq': 5}. Best is trial 47 with value: 0.809347146113099.\n",
            "[I 2024-02-09 09:31:21,127] Trial 88 finished with value: 0.7701129466525904 and parameters: {'boosting_type': 'goss', 'objective': 'binary', 'lambda_l1': 0.00017871201421028037, 'lambda_l2': 0.000124217499788038, 'num_leaves': 227, 'feature_fraction': 0.6712979914197061, 'bagging_freq': 6, 'min_child_samples': 52, 'learning_rate': 0.19456268855163716, 'max_depth': 9, 'min_data_in_leaf': 29, 'min_split_gain': 0.7713709664483088, 'subsample': 0.7871061157918978, 'subsample_freq': 2}. Best is trial 47 with value: 0.809347146113099.\n",
            "[I 2024-02-09 09:31:21,449] Trial 89 finished with value: 0.7291190560826982 and parameters: {'boosting_type': 'goss', 'objective': 'binary', 'lambda_l1': 0.025243190876830204, 'lambda_l2': 1.2856092571756694e-05, 'num_leaves': 237, 'feature_fraction': 0.7256634178441809, 'bagging_freq': 7, 'min_child_samples': 10, 'learning_rate': 0.10191533537909483, 'max_depth': 8, 'min_data_in_leaf': 74, 'min_split_gain': 0.4449066189912407, 'subsample': 0.7179895938932808, 'subsample_freq': 3}. Best is trial 47 with value: 0.809347146113099.\n",
            "[I 2024-02-09 09:31:21,704] Trial 90 finished with value: 0.7654407030520025 and parameters: {'boosting_type': 'goss', 'objective': 'binary', 'lambda_l1': 0.007528108557188278, 'lambda_l2': 0.00036627813301591257, 'num_leaves': 198, 'feature_fraction': 0.9013062634989863, 'bagging_freq': 6, 'min_child_samples': 12, 'learning_rate': 0.1418263488289486, 'max_depth': 4, 'min_data_in_leaf': 99, 'min_split_gain': 0.8009972370932532, 'subsample': 0.7022134224721079, 'subsample_freq': 1}. Best is trial 47 with value: 0.809347146113099.\n",
            "[I 2024-02-09 09:31:22,057] Trial 91 finished with value: 0.7845639991177409 and parameters: {'boosting_type': 'goss', 'objective': 'binary', 'lambda_l1': 6.213503904469659e-07, 'lambda_l2': 6.198407159939688e-05, 'num_leaves': 205, 'feature_fraction': 0.8853548686126546, 'bagging_freq': 5, 'min_child_samples': 14, 'learning_rate': 0.14651727772817036, 'max_depth': 8, 'min_data_in_leaf': 21, 'min_split_gain': 0.8631374856511067, 'subsample': 0.6688794078789239, 'subsample_freq': 1}. Best is trial 47 with value: 0.809347146113099.\n",
            "[I 2024-02-09 09:31:22,369] Trial 92 finished with value: 0.7954556875375193 and parameters: {'boosting_type': 'goss', 'objective': 'binary', 'lambda_l1': 0.002380517492449374, 'lambda_l2': 2.155656316703403e-05, 'num_leaves': 192, 'feature_fraction': 0.5887492407234194, 'bagging_freq': 6, 'min_child_samples': 7, 'learning_rate': 0.12986629613420939, 'max_depth': 7, 'min_data_in_leaf': 18, 'min_split_gain': 0.5168969970809354, 'subsample': 0.457051466372487, 'subsample_freq': 1}. Best is trial 47 with value: 0.809347146113099.\n",
            "[I 2024-02-09 09:31:22,766] Trial 93 finished with value: 0.7956972826990846 and parameters: {'boosting_type': 'goss', 'objective': 'binary', 'lambda_l1': 0.00045548211744323694, 'lambda_l2': 0.00016177147597385233, 'num_leaves': 123, 'feature_fraction': 0.966029737737465, 'bagging_freq': 6, 'min_child_samples': 20, 'learning_rate': 0.14957668160909574, 'max_depth': 7, 'min_data_in_leaf': 16, 'min_split_gain': 0.22333743318245242, 'subsample': 0.6191824493133868, 'subsample_freq': 1}. Best is trial 47 with value: 0.809347146113099.\n",
            "[I 2024-02-09 09:31:23,111] Trial 94 finished with value: 0.7898545735783387 and parameters: {'boosting_type': 'goss', 'objective': 'binary', 'lambda_l1': 3.625141904423591e-05, 'lambda_l2': 9.294122523649188e-06, 'num_leaves': 216, 'feature_fraction': 0.9097910764046158, 'bagging_freq': 7, 'min_child_samples': 9, 'learning_rate': 0.15600425881722405, 'max_depth': 8, 'min_data_in_leaf': 12, 'min_split_gain': 0.8875783412128302, 'subsample': 0.7219103067683843, 'subsample_freq': 1}. Best is trial 47 with value: 0.809347146113099.\n",
            "[I 2024-02-09 09:31:23,515] Trial 95 finished with value: 0.7888167859786475 and parameters: {'boosting_type': 'dart', 'bagging_fraction': 0.626716199929811, 'objective': 'binary', 'lambda_l1': 1.5595030815511054e-06, 'lambda_l2': 0.00010177763620978143, 'num_leaves': 229, 'feature_fraction': 0.8256068452657596, 'bagging_freq': 5, 'min_child_samples': 23, 'learning_rate': 0.16746055402860932, 'max_depth': 8, 'min_data_in_leaf': 19, 'min_split_gain': 0.40976206469988197, 'subsample': 0.7505960205448005, 'subsample_freq': 5}. Best is trial 47 with value: 0.809347146113099.\n",
            "[I 2024-02-09 09:31:23,849] Trial 96 finished with value: 0.7928461528578128 and parameters: {'boosting_type': 'goss', 'objective': 'cross_entropy', 'lambda_l1': 0.00018557865132979887, 'lambda_l2': 0.000727754406321186, 'num_leaves': 241, 'feature_fraction': 0.853355332587281, 'bagging_freq': 6, 'min_child_samples': 15, 'learning_rate': 0.18669216132353486, 'max_depth': 9, 'min_data_in_leaf': 15, 'min_split_gain': 0.8384413580920613, 'subsample': 0.4353067944631842, 'subsample_freq': 2}. Best is trial 47 with value: 0.809347146113099.\n",
            "[I 2024-02-09 09:31:24,291] Trial 97 finished with value: 0.7966419102337058 and parameters: {'boosting_type': 'goss', 'objective': 'binary', 'lambda_l1': 2.3592728293984037e-08, 'lambda_l2': 3.505074135372763e-05, 'num_leaves': 163, 'feature_fraction': 0.938020268630989, 'bagging_freq': 6, 'min_child_samples': 11, 'learning_rate': 0.11502791482700514, 'max_depth': 8, 'min_data_in_leaf': 10, 'min_split_gain': 0.07650803034950782, 'subsample': 0.573637324380572, 'subsample_freq': 2}. Best is trial 47 with value: 0.809347146113099.\n",
            "[I 2024-02-09 09:31:24,588] Trial 98 finished with value: 0.7823488667324792 and parameters: {'boosting_type': 'gbdt', 'bagging_fraction': 0.45496642893662065, 'objective': 'binary', 'lambda_l1': 2.9502462713904417e-07, 'lambda_l2': 0.0021368089047971196, 'num_leaves': 173, 'feature_fraction': 0.9591469588794063, 'bagging_freq': 5, 'min_child_samples': 18, 'learning_rate': 0.1244152307821246, 'max_depth': 7, 'min_data_in_leaf': 20, 'min_split_gain': 0.9645257110222776, 'subsample': 0.6446770674560237, 'subsample_freq': 7}. Best is trial 47 with value: 0.809347146113099.\n",
            "[I 2024-02-09 09:31:24,876] Trial 99 finished with value: 0.7623135638770577 and parameters: {'boosting_type': 'goss', 'objective': 'binary', 'lambda_l1': 0.0015252796510460053, 'lambda_l2': 0.00024768099148088086, 'num_leaves': 135, 'feature_fraction': 0.8736383441187935, 'bagging_freq': 7, 'min_child_samples': 5, 'learning_rate': 0.29745559305220937, 'max_depth': 8, 'min_data_in_leaf': 52, 'min_split_gain': 0.1317481215981391, 'subsample': 0.5554734194002566, 'subsample_freq': 1}. Best is trial 47 with value: 0.809347146113099.\n"
          ]
        },
        {
          "name": "stdout",
          "output_type": "stream",
          "text": [
            "Best parameters: {'boosting_type': 'dart', 'bagging_fraction': 0.7109382757674573, 'objective': 'binary', 'lambda_l1': 4.280716944705774e-06, 'lambda_l2': 7.633396087193554e-05, 'num_leaves': 163, 'feature_fraction': 0.8704422862186209, 'bagging_freq': 5, 'min_child_samples': 9, 'learning_rate': 0.16880114191534762, 'max_depth': 8, 'min_data_in_leaf': 10, 'min_split_gain': 0.20866288443090886, 'subsample': 0.5445229534034256, 'subsample_freq': 1}\n",
            "Best cross-validated ROC-AUC: 0.8093\n"
          ]
        }
      ],
      "source": [
        "import optuna\n",
        "\n",
        "def objective(trial: optuna.Trial):\n",
        "    boosting_type = trial.suggest_categorical(\"boosting_type\", [\"gbdt\", \"dart\", \"goss\"])\n",
        "    bagging_fraction = 1.0 if boosting_type == \"goss\" else trial.suggest_float(\"bagging_fraction\", 0.4, 1.0)\n",
        "    \n",
        "    param = {\n",
        "        \"objective\": trial.suggest_categorical(\"objective\", [\"binary\", \"cross_entropy\"]),\n",
        "        \"metric\": \"binary_logloss\",\n",
        "        \"verbosity\": -1,\n",
        "        \"boosting_type\": boosting_type,\n",
        "        \"lambda_l1\": trial.suggest_float(\"lambda_l1\", 1e-8, 10.0, log=True),\n",
        "        \"lambda_l2\": trial.suggest_float(\"lambda_l2\", 1e-8, 10.0, log=True),\n",
        "        \"num_leaves\": trial.suggest_int(\"num_leaves\", 2, 256),\n",
        "        \"feature_fraction\": trial.suggest_float(\"feature_fraction\", 0.4, 1.0),\n",
        "        \"bagging_fraction\": bagging_fraction,\n",
        "        \"bagging_freq\": trial.suggest_int(\"bagging_freq\", 1, 7),\n",
        "        \"min_child_samples\": trial.suggest_int(\"min_child_samples\", 5, 100),\n",
        "        \"learning_rate\": trial.suggest_float(\"learning_rate\", 0.01, 0.3),\n",
        "        \"max_depth\": trial.suggest_int(\"max_depth\", 3, 10),\n",
        "        \"min_data_in_leaf\": trial.suggest_int(\"min_data_in_leaf\", 10, 100),\n",
        "        \"min_split_gain\": trial.suggest_float(\"min_split_gain\", 0.0, 1.0),\n",
        "        \"subsample\": trial.suggest_float(\"subsample\", 0.4, 1.0),\n",
        "        \"subsample_freq\": trial.suggest_int(\"subsample_freq\", 1, 10),\n",
        "    }\n",
        "    \n",
        "    scoring = {\"accuracy\": \"accuracy\", \"roc_auc\": make_scorer(roc_auc_score)}\n",
        "    \n",
        "    classifier = LGBMClassifier(random_state=42, **param)\n",
        "    \n",
        "    scores = cross_validate(\n",
        "        classifier, preprocessor.transform(X_train), y_train, cv=5, scoring=scoring, n_jobs=-1\n",
        "    )\n",
        "    roc_auc = scores['test_roc_auc'].mean()\n",
        "    \n",
        "    return roc_auc\n",
        "\n",
        "study = optuna.create_study(direction=\"maximize\")\n",
        "    \n",
        "study.optimize(objective, n_trials=100)\n",
        "\n",
        "best_scores = study.best_trial.value\n",
        "best_params = study.best_params\n",
        "\n",
        "print(f\"Best parameters: {best_params}\")\n",
        "print(f\"Best cross-validated ROC-AUC: {best_scores:.4f}\")\n",
        "\n"
      ]
    },
    {
      "cell_type": "code",
      "execution_count": 31,
      "id": "39e2439f",
      "metadata": {},
      "outputs": [
        {
          "name": "stdout",
          "output_type": "stream",
          "text": [
            "[LightGBM] [Warning] Accuracy may be bad since you didn't explicitly set num_leaves OR 2^max_depth > num_leaves. (num_leaves=31).\n",
            "[LightGBM] [Warning] Accuracy may be bad since you didn't explicitly set num_leaves OR 2^max_depth > num_leaves. (num_leaves=31).\n",
            "GridSearchCV best model\n",
            "Test set accuracy: 0.8463\n",
            "Test set ROC-AUC: 0.8642\n"
          ]
        }
      ],
      "source": [
        "X_test_transformed = preprocessor.transform(X_test)\n",
        "test_accuracy = grid_search.score(X_test_transformed, y_test)\n",
        "test_roc_auc = roc_auc_score(y_test, grid_search.predict_proba(X_test_transformed)[:, 1])\n",
        "\n",
        "print(\"GridSearchCV best model\")\n",
        "print(f\"Test set accuracy: {test_accuracy:.4f}\")\n",
        "print(f\"Test set ROC-AUC: {test_roc_auc:.4f}\")"
      ]
    },
    {
      "cell_type": "code",
      "execution_count": 33,
      "id": "91eddbba",
      "metadata": {},
      "outputs": [
        {
          "name": "stdout",
          "output_type": "stream",
          "text": [
            "[LightGBM] [Warning] min_data_in_leaf is set=10, min_child_samples=9 will be ignored. Current value: min_data_in_leaf=10\n",
            "[LightGBM] [Warning] feature_fraction is set=0.8704422862186209, colsample_bytree=1.0 will be ignored. Current value: feature_fraction=0.8704422862186209\n",
            "[LightGBM] [Warning] lambda_l1 is set=4.280716944705774e-06, reg_alpha=0.0 will be ignored. Current value: lambda_l1=4.280716944705774e-06\n",
            "[LightGBM] [Warning] lambda_l2 is set=7.633396087193554e-05, reg_lambda=0.0 will be ignored. Current value: lambda_l2=7.633396087193554e-05\n",
            "[LightGBM] [Warning] bagging_fraction is set=0.7109382757674573, subsample=0.5445229534034256 will be ignored. Current value: bagging_fraction=0.7109382757674573\n",
            "[LightGBM] [Warning] bagging_freq is set=5, subsample_freq=1 will be ignored. Current value: bagging_freq=5\n",
            "[LightGBM] [Warning] min_data_in_leaf is set=10, min_child_samples=9 will be ignored. Current value: min_data_in_leaf=10\n",
            "[LightGBM] [Warning] feature_fraction is set=0.8704422862186209, colsample_bytree=1.0 will be ignored. Current value: feature_fraction=0.8704422862186209\n",
            "[LightGBM] [Warning] lambda_l1 is set=4.280716944705774e-06, reg_alpha=0.0 will be ignored. Current value: lambda_l1=4.280716944705774e-06\n",
            "[LightGBM] [Warning] lambda_l2 is set=7.633396087193554e-05, reg_lambda=0.0 will be ignored. Current value: lambda_l2=7.633396087193554e-05\n",
            "[LightGBM] [Warning] bagging_fraction is set=0.7109382757674573, subsample=0.5445229534034256 will be ignored. Current value: bagging_fraction=0.7109382757674573\n",
            "[LightGBM] [Warning] bagging_freq is set=5, subsample_freq=1 will be ignored. Current value: bagging_freq=5\n",
            "[LightGBM] [Info] Number of positive: 268, number of negative: 444\n",
            "[LightGBM] [Info] Auto-choosing col-wise multi-threading, the overhead of testing was 0.000200 seconds.\n",
            "You can set `force_col_wise=true` to remove the overhead.\n",
            "[LightGBM] [Info] Total Bins 90\n",
            "[LightGBM] [Info] Number of data points in the train set: 712, number of used features: 11\n",
            "[LightGBM] [Info] [binary:BoostFromScore]: pavg=0.376404 -> initscore=-0.504838\n",
            "[LightGBM] [Info] Start training from score -0.504838\n",
            "[LightGBM] [Warning] No further splits with positive gain, best gain: -inf\n",
            "[LightGBM] [Warning] No further splits with positive gain, best gain: -inf\n",
            "[LightGBM] [Warning] No further splits with positive gain, best gain: -inf\n",
            "[LightGBM] [Warning] No further splits with positive gain, best gain: -inf\n",
            "[LightGBM] [Warning] No further splits with positive gain, best gain: -inf\n",
            "[LightGBM] [Warning] No further splits with positive gain, best gain: -inf\n",
            "[LightGBM] [Warning] No further splits with positive gain, best gain: -inf\n",
            "[LightGBM] [Warning] No further splits with positive gain, best gain: -inf\n",
            "[LightGBM] [Warning] No further splits with positive gain, best gain: -inf\n",
            "[LightGBM] [Warning] No further splits with positive gain, best gain: -inf\n",
            "[LightGBM] [Warning] No further splits with positive gain, best gain: -inf\n",
            "[LightGBM] [Warning] No further splits with positive gain, best gain: -inf\n",
            "[LightGBM] [Warning] No further splits with positive gain, best gain: -inf\n",
            "[LightGBM] [Warning] No further splits with positive gain, best gain: -inf\n",
            "[LightGBM] [Warning] No further splits with positive gain, best gain: -inf\n",
            "[LightGBM] [Warning] No further splits with positive gain, best gain: -inf\n",
            "[LightGBM] [Warning] No further splits with positive gain, best gain: -inf\n",
            "[LightGBM] [Warning] No further splits with positive gain, best gain: -inf\n",
            "[LightGBM] [Warning] No further splits with positive gain, best gain: -inf\n",
            "[LightGBM] [Warning] No further splits with positive gain, best gain: -inf\n",
            "[LightGBM] [Warning] No further splits with positive gain, best gain: -inf\n",
            "[LightGBM] [Warning] No further splits with positive gain, best gain: -inf\n",
            "[LightGBM] [Warning] No further splits with positive gain, best gain: -inf\n",
            "[LightGBM] [Warning] No further splits with positive gain, best gain: -inf\n",
            "[LightGBM] [Warning] No further splits with positive gain, best gain: -inf\n",
            "[LightGBM] [Warning] No further splits with positive gain, best gain: -inf\n",
            "[LightGBM] [Warning] No further splits with positive gain, best gain: -inf\n",
            "[LightGBM] [Warning] No further splits with positive gain, best gain: -inf\n",
            "[LightGBM] [Warning] No further splits with positive gain, best gain: -inf\n",
            "[LightGBM] [Warning] No further splits with positive gain, best gain: -inf\n",
            "[LightGBM] [Warning] No further splits with positive gain, best gain: -inf\n",
            "[LightGBM] [Warning] No further splits with positive gain, best gain: -inf\n",
            "[LightGBM] [Warning] No further splits with positive gain, best gain: -inf\n",
            "[LightGBM] [Warning] No further splits with positive gain, best gain: -inf\n",
            "[LightGBM] [Warning] No further splits with positive gain, best gain: -inf\n",
            "[LightGBM] [Warning] No further splits with positive gain, best gain: -inf\n",
            "[LightGBM] [Warning] No further splits with positive gain, best gain: -inf\n",
            "[LightGBM] [Warning] No further splits with positive gain, best gain: -inf\n",
            "[LightGBM] [Warning] No further splits with positive gain, best gain: -inf\n",
            "[LightGBM] [Warning] No further splits with positive gain, best gain: -inf\n",
            "[LightGBM] [Warning] No further splits with positive gain, best gain: -inf\n",
            "[LightGBM] [Warning] No further splits with positive gain, best gain: -inf\n",
            "[LightGBM] [Warning] No further splits with positive gain, best gain: -inf\n",
            "[LightGBM] [Warning] No further splits with positive gain, best gain: -inf\n",
            "[LightGBM] [Warning] No further splits with positive gain, best gain: -inf\n",
            "[LightGBM] [Warning] No further splits with positive gain, best gain: -inf\n",
            "[LightGBM] [Warning] No further splits with positive gain, best gain: -inf\n",
            "[LightGBM] [Warning] No further splits with positive gain, best gain: -inf\n",
            "[LightGBM] [Warning] No further splits with positive gain, best gain: -inf\n",
            "[LightGBM] [Warning] No further splits with positive gain, best gain: -inf\n",
            "[LightGBM] [Warning] No further splits with positive gain, best gain: -inf\n",
            "[LightGBM] [Warning] No further splits with positive gain, best gain: -inf\n",
            "[LightGBM] [Warning] No further splits with positive gain, best gain: -inf\n",
            "[LightGBM] [Warning] No further splits with positive gain, best gain: -inf\n",
            "[LightGBM] [Warning] No further splits with positive gain, best gain: -inf\n",
            "[LightGBM] [Warning] No further splits with positive gain, best gain: -inf\n",
            "[LightGBM] [Warning] No further splits with positive gain, best gain: -inf\n",
            "[LightGBM] [Warning] No further splits with positive gain, best gain: -inf\n",
            "[LightGBM] [Warning] No further splits with positive gain, best gain: -inf\n",
            "[LightGBM] [Warning] No further splits with positive gain, best gain: -inf\n",
            "[LightGBM] [Warning] No further splits with positive gain, best gain: -inf\n",
            "[LightGBM] [Warning] No further splits with positive gain, best gain: -inf\n",
            "[LightGBM] [Warning] No further splits with positive gain, best gain: -inf\n",
            "[LightGBM] [Warning] No further splits with positive gain, best gain: -inf\n",
            "[LightGBM] [Warning] No further splits with positive gain, best gain: -inf\n",
            "[LightGBM] [Warning] No further splits with positive gain, best gain: -inf\n",
            "[LightGBM] [Warning] No further splits with positive gain, best gain: -inf\n",
            "[LightGBM] [Warning] No further splits with positive gain, best gain: -inf\n",
            "[LightGBM] [Warning] No further splits with positive gain, best gain: -inf\n",
            "[LightGBM] [Warning] No further splits with positive gain, best gain: -inf\n",
            "[LightGBM] [Warning] No further splits with positive gain, best gain: -inf\n",
            "[LightGBM] [Warning] No further splits with positive gain, best gain: -inf\n",
            "[LightGBM] [Warning] No further splits with positive gain, best gain: -inf\n",
            "[LightGBM] [Warning] No further splits with positive gain, best gain: -inf\n",
            "[LightGBM] [Warning] No further splits with positive gain, best gain: -inf\n",
            "[LightGBM] [Warning] No further splits with positive gain, best gain: -inf\n",
            "[LightGBM] [Warning] No further splits with positive gain, best gain: -inf\n",
            "[LightGBM] [Warning] No further splits with positive gain, best gain: -inf\n",
            "[LightGBM] [Warning] No further splits with positive gain, best gain: -inf\n",
            "[LightGBM] [Warning] No further splits with positive gain, best gain: -inf\n",
            "[LightGBM] [Warning] No further splits with positive gain, best gain: -inf\n",
            "[LightGBM] [Warning] No further splits with positive gain, best gain: -inf\n",
            "[LightGBM] [Warning] No further splits with positive gain, best gain: -inf\n",
            "[LightGBM] [Warning] No further splits with positive gain, best gain: -inf\n",
            "[LightGBM] [Warning] No further splits with positive gain, best gain: -inf\n",
            "[LightGBM] [Warning] No further splits with positive gain, best gain: -inf\n",
            "[LightGBM] [Warning] No further splits with positive gain, best gain: -inf\n",
            "[LightGBM] [Warning] No further splits with positive gain, best gain: -inf\n",
            "[LightGBM] [Warning] No further splits with positive gain, best gain: -inf\n",
            "[LightGBM] [Warning] No further splits with positive gain, best gain: -inf\n",
            "[LightGBM] [Warning] No further splits with positive gain, best gain: -inf\n",
            "[LightGBM] [Warning] No further splits with positive gain, best gain: -inf\n",
            "[LightGBM] [Warning] No further splits with positive gain, best gain: -inf\n",
            "[LightGBM] [Warning] No further splits with positive gain, best gain: -inf\n",
            "[LightGBM] [Warning] No further splits with positive gain, best gain: -inf\n",
            "[LightGBM] [Warning] No further splits with positive gain, best gain: -inf\n",
            "[LightGBM] [Warning] No further splits with positive gain, best gain: -inf\n",
            "[LightGBM] [Warning] No further splits with positive gain, best gain: -inf\n",
            "[LightGBM] [Warning] No further splits with positive gain, best gain: -inf\n",
            "[LightGBM] [Warning] No further splits with positive gain, best gain: -inf\n"
          ]
        },
        {
          "name": "stderr",
          "output_type": "stream",
          "text": [
            "c:\\Users\\florian.wolff\\AppData\\Local\\anaconda3\\envs\\isg_data_science\\Lib\\site-packages\\sklearn\\preprocessing\\_label.py:99: DataConversionWarning: A column-vector y was passed when a 1d array was expected. Please change the shape of y to (n_samples, ), for example using ravel().\n",
            "  y = column_or_1d(y, warn=True)\n",
            "c:\\Users\\florian.wolff\\AppData\\Local\\anaconda3\\envs\\isg_data_science\\Lib\\site-packages\\sklearn\\preprocessing\\_label.py:134: DataConversionWarning: A column-vector y was passed when a 1d array was expected. Please change the shape of y to (n_samples, ), for example using ravel().\n",
            "  y = column_or_1d(y, dtype=self.classes_.dtype, warn=True)\n"
          ]
        }
      ],
      "source": [
        "best_model = LGBMClassifier(**best_params).fit(preprocessor.transform(X_train), y_train)"
      ]
    },
    {
      "cell_type": "code",
      "execution_count": 34,
      "id": "491bd450",
      "metadata": {},
      "outputs": [
        {
          "name": "stdout",
          "output_type": "stream",
          "text": [
            "[LightGBM] [Warning] min_data_in_leaf is set=10, min_child_samples=9 will be ignored. Current value: min_data_in_leaf=10\n",
            "[LightGBM] [Warning] feature_fraction is set=0.8704422862186209, colsample_bytree=1.0 will be ignored. Current value: feature_fraction=0.8704422862186209\n",
            "[LightGBM] [Warning] lambda_l1 is set=4.280716944705774e-06, reg_alpha=0.0 will be ignored. Current value: lambda_l1=4.280716944705774e-06\n",
            "[LightGBM] [Warning] lambda_l2 is set=7.633396087193554e-05, reg_lambda=0.0 will be ignored. Current value: lambda_l2=7.633396087193554e-05\n",
            "[LightGBM] [Warning] bagging_fraction is set=0.7109382757674573, subsample=0.5445229534034256 will be ignored. Current value: bagging_fraction=0.7109382757674573\n",
            "[LightGBM] [Warning] bagging_freq is set=5, subsample_freq=1 will be ignored. Current value: bagging_freq=5\n",
            "[LightGBM] [Warning] min_data_in_leaf is set=10, min_child_samples=9 will be ignored. Current value: min_data_in_leaf=10\n",
            "[LightGBM] [Warning] feature_fraction is set=0.8704422862186209, colsample_bytree=1.0 will be ignored. Current value: feature_fraction=0.8704422862186209\n",
            "[LightGBM] [Warning] lambda_l1 is set=4.280716944705774e-06, reg_alpha=0.0 will be ignored. Current value: lambda_l1=4.280716944705774e-06\n",
            "[LightGBM] [Warning] lambda_l2 is set=7.633396087193554e-05, reg_lambda=0.0 will be ignored. Current value: lambda_l2=7.633396087193554e-05\n",
            "[LightGBM] [Warning] bagging_fraction is set=0.7109382757674573, subsample=0.5445229534034256 will be ignored. Current value: bagging_fraction=0.7109382757674573\n",
            "[LightGBM] [Warning] bagging_freq is set=5, subsample_freq=1 will be ignored. Current value: bagging_freq=5\n",
            "Test set accuracy: 0.8268\n",
            "Test set precision: 0.8209\n",
            "Test set recall: 0.7432\n",
            "Test set F1: 0.7801\n",
            "Test set ROC-AUC: 0.8661\n",
            "\n",
            "Classification Report:\n",
            "              precision    recall  f1-score   support\n",
            "\n",
            "           0       0.83      0.89      0.86       105\n",
            "           1       0.82      0.74      0.78        74\n",
            "\n",
            "    accuracy                           0.83       179\n",
            "   macro avg       0.83      0.81      0.82       179\n",
            "weighted avg       0.83      0.83      0.83       179\n",
            "\n",
            "\n",
            "\n"
          ]
        }
      ],
      "source": [
        "# best model\n",
        "data_preprocessed = preprocessor.transform(X_test)\n",
        "y_prediction = best_model.predict(data_preprocessed)\n",
        "y_prediction_proba = best_model.predict_proba(data_preprocessed)[:, 1]\n",
        "cm = confusion_matrix(y_true=y_test, y_pred=y_prediction, labels=best_model.classes_)\n",
        "print(f\"Test set accuracy: {accuracy_score(y_test, y_prediction):.4f}\")\n",
        "print(f\"Test set precision: {precision_score(y_test, y_prediction):.4f}\")\n",
        "print(f\"Test set recall: {recall_score(y_test, y_prediction):.4f}\")\n",
        "print(f\"Test set F1: {f1_score(y_test, y_prediction):.4f}\")\n",
        "print(f\"Test set ROC-AUC: {roc_auc_score(y_test, y_prediction_proba):.4f}\\n\")\n",
        "print(f\"Classification Report:\\n{classification_report(y_test, y_prediction)}\\n\\n\")"
      ]
    },
    {
      "cell_type": "code",
      "execution_count": 35,
      "id": "c1ce0d87",
      "metadata": {},
      "outputs": [
        {
          "data": {
            "image/png": "[encoded data removed]",
            "text/plain": [
              "<Figure size 640x480 with 2 Axes>"
            ]
          },
          "metadata": {},
          "output_type": "display_data"
        }
      ],
      "source": [
        "# Confusion Matrix\n",
        "disp = ConfusionMatrixDisplay(confusion_matrix=cm, display_labels=best_model.classes_)\n",
        "disp.plot()\n",
        "plt.show()"
      ]
    },
    {
      "cell_type": "code",
      "execution_count": 36,
      "id": "c0b49562",
      "metadata": {},
      "outputs": [
        {
          "data": {
            "image/png": "[encoded data removed]",
            "text/plain": [
              "<Figure size 1000x500 with 1 Axes>"
            ]
          },
          "metadata": {},
          "output_type": "display_data"
        }
      ],
      "source": [
        "# Feature Importance\n",
        "feature_names = preprocessor.get_feature_names_out()\n",
        "feature_importance = best_model.feature_importances_\n",
        "\n",
        "\n",
        "# Plot feature importance\n",
        "plt.figure(figsize=(10, 5))\n",
        "sns.barplot(x=feature_importance, y=feature_names, order=np.array(feature_names)[np.argsort(feature_importance)])\n",
        "plt.title(\"Feature Importance\")\n",
        "plt.show()"
      ]
    }
  ],
  "metadata": {
    "colab": {
      "include_colab_link": true,
      "provenance": []
    },
    "kernelspec": {
      "display_name": "Python 3 (ipykernel)",
      "language": "python",
      "name": "python3"
    },
    "language_info": {
      "codemirror_mode": {
        "name": "ipython",
        "version": 3
      },
      "file_extension": ".py",
      "mimetype": "text/x-python",
      "name": "python",
      "nbconvert_exporter": "python",
      "pygments_lexer": "ipython3",
      "version": "3.11.5"
    }
  },
  "nbformat": 4,
  "nbformat_minor": 5
}
