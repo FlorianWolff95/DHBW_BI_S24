{
  "cells": [
    {
      "cell_type": "markdown",
      "metadata": {
        "colab_type": "text",
        "id": "view-in-github"
      },
      "source": [
        "<a href=\"https://colab.research.google.com/github/AlexKressner/Business_Intelligence/blob/main/ML_Fallstudie_Online_Barber_Shop.ipynb\" target=\"_parent\"><img src=\"https://colab.research.google.com/assets/colab-badge.svg\" alt=\"Open In Colab\"/></a>"
      ]
    },
    {
      "cell_type": "markdown",
      "metadata": {
        "id": "WFzfSZZpys_D"
      },
      "source": [
        "# Case Study \"Online Barber Shop\"\n",
        "Sie finden unter `./Daten/Barber/` den Ausschnitt eines Datensatzes einer **Direct-to-Consumer (D2C) Brand**, die über einen Onlineshop **Rasierer** und **Rasierzubehör** verkauft. Für das Unternehmen ist es enorm wichtig, dass es die voraussichtlichen **Absätze der nächsten 21 Tage** kennt, da es Waren im Voraus bei seinen Lieferanten bestellen muss. Je genauer die Absatzprognose, desto weniger Stockouts bzw. unnötige Bestände hat das Unternehmen und desto besser die Marge.\n",
        "\n",
        "Bisher ist es dem Unternehmen nicht gelungen, gute Prognosen zu erstellen. Um dies zu ändern, werden Sie nun beauftragt, eine Prognose mithilfe von ML-Algorithmen anzufertigen. Dazu stellt Ihnen das Unternehmen einen ersten Datensatz aus seinem Shopsystem zur Verfügung. In diesem sind **3 Produkte** enthalten (Alaunstein, Bartbalm und ein Rasierer) und Sie sollen für diese jeweils eine Absatzprogonse erstellen. Bitte orientieren Sie sich bei der Bearbeitung der Fallstudie an der in diesem Notebook vorgeschlagenen Struktur und greifen Sie auf die Notebooks zurück, die wir bereits in der Vorlesung gemeinsam bearbeitet haben.\n",
        "\n",
        "Die Struktur Ihres Notebooks sollte dabei wie folgt aussehen und u.a. die folgenden Fragen beantworten:\n",
        "\n",
        "1. **Daten laden & aufbereiten**. Wichtig: Nachdem Sie die Daten geladen haben, müssen Sie diese zunächst auf Tage und je Produkt aggregieren.\n",
        "2. **Datenexploration**, d.h. verschaffen Sie sich einen Überblick zum Datensatz. Sie sollten folgende Fragen beantworten:\n",
        "  - Wie viele Absätze wurden über welchen Zeitraum je Produkt dokumentiert?\n",
        "  - Was ist der Gesamtumsatz je Produkt?\n",
        "  - Wie sind die Produktverkäufe im Zeitverlauf? Visualisieren Sie beispielweise die monatlichen/wöchentlichen Verkaufsmengen. Dies ist wichtig, um Trends oder Saisonalität in Zeitreihen zu erkennen.\n",
        "  - Wie sind die durchschnittlichen Absätze pro Wochentag?\n",
        "3. **Feature Engineering**\n",
        "  - Entwickeln Sie basirend auf Ihrer Datenexploration nützliche Features für ein Vorhersagemodell.\n",
        "  - Stellen Sie sich die Frage, mit welchen Features Sie Saisonalitäten abbilden können. Gibt es Monate in den die Absätze deutlich höher sind? Falls ja, sollten Sie ein Features einführen, das den Monat (Jan, Feb, ..., Dez) abbildet!\n",
        "  - Bilden Sie autoregressive Features, z.B. könnte es Sinn ergeben zur Progonse des Absatzes an einem Tag (z.B. 15.03.) den Absatz des Vormonats zum gleichen Datum (15.02.) heranzuziehen.\n",
        "  - Können Sie aus den zur Verfügung stehenden Daten den Stückpreis als Feature ableiten?\n",
        "4. **Prognosemodell trainieren und bewerten**\n",
        "  - Trainieren Sie ein globales Prognosemodell auf allen Daten und bewerten Sie dieses.\n",
        "  - Trainieren Sie drei lokale Prognosemodelle (für Alaunstein, Bartbalm & Rasierer) und überprüfen Sie, ob die Prognosegüte verbessert wird.\n"
      ]
    },
    {
      "cell_type": "code",
      "execution_count": null,
      "metadata": {
        "id": "P2OU4xVnysDP"
      },
      "outputs": [],
      "source": [
        "import pandas as pd\n",
        "import numpy as np\n",
        "import seaborn as sns\n",
        "import matplotlib.pyplot as plt"
      ]
    },
    {
      "cell_type": "code",
      "execution_count": null,
      "metadata": {},
      "outputs": [],
      "source": [
        "df = pd.read_csv(r'Daten\\Barber\\barber_shopify_data.csv', sep=';', parse_dates=['Datum'])"
      ]
    },
    {
      "cell_type": "code",
      "execution_count": null,
      "metadata": {},
      "outputs": [],
      "source": [
        "df.info()"
      ]
    },
    {
      "cell_type": "code",
      "execution_count": null,
      "metadata": {},
      "outputs": [],
      "source": [
        "df.head()"
      ]
    },
    {
      "cell_type": "code",
      "execution_count": null,
      "metadata": {},
      "outputs": [],
      "source": [
        "df.drop(columns='Bestellung', inplace=True)"
      ]
    },
    {
      "cell_type": "code",
      "execution_count": null,
      "metadata": {},
      "outputs": [],
      "source": [
        "df.head()"
      ]
    },
    {
      "cell_type": "code",
      "execution_count": null,
      "metadata": {},
      "outputs": [],
      "source": [
        "df.rename({'Versand Land': 'Versand_Land'}, inplace=True, axis=1)"
      ]
    },
    {
      "cell_type": "code",
      "execution_count": null,
      "metadata": {},
      "outputs": [],
      "source": [
        "for col in df.columns:\n",
        "    df.rename({col: col.lower()}, inplace=True, axis=1)\n",
        "df.head()"
      ]
    },
    {
      "cell_type": "code",
      "execution_count": null,
      "metadata": {},
      "outputs": [],
      "source": [
        "df_agg = df.groupby(['datum', 'produkt']).agg({'nettomenge': 'sum', 'bruttoumsatz': 'sum'}).reset_index()"
      ]
    },
    {
      "cell_type": "code",
      "execution_count": null,
      "metadata": {},
      "outputs": [],
      "source": [
        "def get_agg_for_col(df: pd.DataFrame, group_col: list[str] | str, agg_col: str, agg_func: str = 'sum', sorted: bool = False, ascending: bool = False) -> pd.DataFrame:\n",
        "    if isinstance(group_col, str):\n",
        "        group_col = [group_col]\n",
        "    if agg_func == 'sum':\n",
        "        agg_result = df.groupby(group_col)[agg_col].sum()\n",
        "    elif agg_func == 'mean':\n",
        "        agg_result = df.groupby(group_col)[agg_col].mean()\n",
        "    elif agg_func == 'count':\n",
        "        agg_result = df.groupby(group_col)[agg_col].count()\n",
        "    elif agg_func == 'min':\n",
        "        agg_result = df.groupby(group_col)[agg_col].min()\n",
        "    elif agg_func == 'max':\n",
        "        agg_result = df.groupby(group_col)[agg_col].max()\n",
        "    else:\n",
        "        raise ValueError(f\"Invalid aggregation function: {agg_func}\")\n",
        "    \n",
        "    agg_result = agg_result.reset_index()\n",
        "    \n",
        "    if sorted:\n",
        "        agg_result = agg_result.sort_values(by=agg_col, ascending=ascending)\n",
        "    \n",
        "    return agg_result\n"
      ]
    },
    {
      "cell_type": "code",
      "execution_count": null,
      "metadata": {},
      "outputs": [],
      "source": [
        "df_agg.head()"
      ]
    },
    {
      "cell_type": "code",
      "execution_count": null,
      "metadata": {},
      "outputs": [],
      "source": [
        "agg_cols = ['nettomenge', 'bruttoumsatz']\n",
        "for col in agg_cols:\n",
        "    plt.figure(figsize=(10, 6))\n",
        "    sns.lineplot(data=get_agg_for_col(df, ['datum', 'produkt'], col ), x='datum', y=col, hue='produkt')\n",
        "    plt.show()"
      ]
    },
    {
      "cell_type": "code",
      "execution_count": null,
      "metadata": {},
      "outputs": [],
      "source": [
        "for col in ['nettomenge', 'bruttoumsatz']:\n",
        "    plt.figure(figsize=(10, 6))\n",
        "    plt.title(f'Summe {col} pro Produkt')\n",
        "    sns.barplot(data=get_agg_for_col(df_agg, 'produkt', 'nettomenge', sorted=True), x='produkt', y='nettomenge')\n",
        "    plt.show()\n"
      ]
    },
    {
      "cell_type": "code",
      "execution_count": null,
      "metadata": {},
      "outputs": [],
      "source": [
        "df_agg['year'] = df_agg['datum'].dt.year\n",
        "df_agg['month'] = df_agg['datum'].dt.month\n",
        "df_agg['day'] = df_agg['datum'].dt.day\n",
        "df_agg['week'] = df_agg['datum'].dt.isocalendar().week\n",
        "df_agg['weekday'] = df_agg['datum'].dt.weekday\n",
        "df_agg['day_of_year'] = df_agg['datum'].dt.dayofyear\n",
        "df_agg['quarter'] = df_agg['datum'].dt.quarter\n",
        "df_agg['day_name'] = df_agg['datum'].dt.day_name()"
      ]
    },
    {
      "cell_type": "code",
      "execution_count": null,
      "metadata": {},
      "outputs": [],
      "source": [
        "df_agg.head()"
      ]
    },
    {
      "cell_type": "code",
      "execution_count": null,
      "metadata": {},
      "outputs": [],
      "source": [
        "plt.figure(figsize=(10, 6))\n",
        "sns.barplot(data=get_agg_for_col(df_agg, ['day_name', 'produkt'], 'nettomenge', agg_func='mean'), x='day_name', y='nettomenge', hue='produkt')\n",
        "plt.show()"
      ]
    }
  ],
  "metadata": {
    "colab": {
      "authorship_tag": "ABX9TyPFLAtpqmpfEXQ+JGHLQgmm",
      "include_colab_link": true,
      "provenance": []
    },
    "kernelspec": {
      "display_name": "Python 3",
      "name": "python3"
    },
    "language_info": {
      "codemirror_mode": {
        "name": "ipython",
        "version": 3
      },
      "file_extension": ".py",
      "mimetype": "text/x-python",
      "name": "python",
      "nbconvert_exporter": "python",
      "pygments_lexer": "ipython3",
      "version": "3.11.5"
    }
  },
  "nbformat": 4,
  "nbformat_minor": 0
}
